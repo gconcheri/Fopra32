{
 "cells": [
  {
   "cell_type": "markdown",
   "metadata": {},
   "source": [
    "# Exercise 4.1 Implementation of the TEBD algorithm"
   ]
  },
  {
   "cell_type": "code",
   "execution_count": 13,
   "metadata": {},
   "outputs": [],
   "source": [
    "import a_mps, b_model, c_tebd\n",
    "import numpy as np\n",
    "import importlib"
   ]
  },
  {
   "cell_type": "code",
   "execution_count": 27,
   "metadata": {},
   "outputs": [
    {
     "data": {
      "text/plain": [
       "<module 'c_tebd' from 'c:\\\\Users\\\\work\\\\OneDrive - TUM\\\\Dokumente\\\\Studium\\\\QST MSc\\\\FoPra\\\\FoPra 32\\\\c_tebd.py'>"
      ]
     },
     "execution_count": 27,
     "metadata": {},
     "output_type": "execute_result"
    }
   ],
   "source": [
    "importlib.reload(a_mps)\n",
    "importlib.reload(b_model)\n",
    "importlib.reload(c_tebd)"
   ]
  },
  {
   "cell_type": "markdown",
   "metadata": {},
   "source": [
    "## Part a)"
   ]
  },
  {
   "cell_type": "markdown",
   "metadata": {},
   "source": [
    "- Read the code in the file a_mps.py. This file defines the class MPS in an objectoriented approach. In short, defining the class is defining a “type” which collects data in attributes (e.g. MPS.Bs, MPS.L) and has methods (e.g. MPS.site_expectation_value) which can use the attributes (referenced with the special first argument self) for calculations. \n",
    "\n",
    "- Generate an instance of the MPS class representing the state\n",
    "|↑↑ . . . ↑> with the function init_spinup_MPS, for the start with L = 14 sites.\n",
    "\n",
    "- Check that the (site) expectation values of the operators $\\sigma_z = \\left(\\begin{matrix}\n",
    "1 & 0 \\\\\n",
    "0 & -1 \n",
    "\\end{matrix}\\right)$ and $\\sigma_x = \\left(\\begin{matrix}\n",
    "0 & 1 \\\\\n",
    "1 & 0 \n",
    "\\end{matrix}\\right)$ give the expected values."
   ]
  },
  {
   "cell_type": "code",
   "execution_count": 4,
   "metadata": {},
   "outputs": [],
   "source": [
    "spinup_mps = a_mps.init_spinup_MPS(L = 14)"
   ]
  },
  {
   "cell_type": "code",
   "execution_count": 5,
   "metadata": {},
   "outputs": [],
   "source": [
    "sigma_z = np.array([[1, 0], [0, -1]])\n",
    "sigma_x = np.array([[0, 1], [1, 0]])"
   ]
  },
  {
   "cell_type": "code",
   "execution_count": 6,
   "metadata": {},
   "outputs": [
    {
     "data": {
      "text/plain": [
       "array([1., 1., 1., 1., 1., 1., 1., 1., 1., 1., 1., 1., 1., 1.])"
      ]
     },
     "execution_count": 6,
     "metadata": {},
     "output_type": "execute_result"
    }
   ],
   "source": [
    "# Sigma z expectation value\n",
    "spinup_mps.site_expectation_value(sigma_z)"
   ]
  },
  {
   "cell_type": "code",
   "execution_count": 7,
   "metadata": {},
   "outputs": [
    {
     "data": {
      "text/plain": [
       "array([0., 0., 0., 0., 0., 0., 0., 0., 0., 0., 0., 0., 0., 0.])"
      ]
     },
     "execution_count": 7,
     "metadata": {},
     "output_type": "execute_result"
    }
   ],
   "source": [
    "# Sigma x expectation value\n",
    "spinup_mps.site_expectation_value(sigma_x)"
   ]
  },
  {
   "cell_type": "markdown",
   "metadata": {},
   "source": [
    "## Part b)"
   ]
  },
  {
   "cell_type": "markdown",
   "metadata": {},
   "source": [
    "- Write a function similar to init_spinup_MPS, but initialize an MPS for the state|→→ · · · →>. \n",
    "- Check the expectation values again.\n",
    "\n",
    "Hint: This state is also a product state of |→i = 1 √2\n",
    "(|↑i + |↓i), so the singular values remain the same and the shape of each B is still (1,2,1). You should expect rounding errors of the order of machine precision ≈ 10−15."
   ]
  },
  {
   "cell_type": "code",
   "execution_count": 16,
   "metadata": {},
   "outputs": [],
   "source": [
    "spinright_mps = a_mps.init_spinright_MPS(L = 14)"
   ]
  },
  {
   "cell_type": "code",
   "execution_count": 19,
   "metadata": {},
   "outputs": [
    {
     "data": {
      "text/plain": [
       "array([0., 0., 0., 0., 0., 0., 0., 0., 0., 0., 0., 0., 0., 0.])"
      ]
     },
     "execution_count": 19,
     "metadata": {},
     "output_type": "execute_result"
    }
   ],
   "source": [
    "# Sigma z expectation value\n",
    "spinright_mps.site_expectation_value(sigma_z)"
   ]
  },
  {
   "cell_type": "code",
   "execution_count": 20,
   "metadata": {},
   "outputs": [
    {
     "data": {
      "text/plain": [
       "array([1., 1., 1., 1., 1., 1., 1., 1., 1., 1., 1., 1., 1., 1.])"
      ]
     },
     "execution_count": 20,
     "metadata": {},
     "output_type": "execute_result"
    }
   ],
   "source": [
    "# Sigma x expectation value\n",
    "spinright_mps.site_expectation_value(sigma_x)"
   ]
  },
  {
   "cell_type": "markdown",
   "metadata": {},
   "source": [
    "## Part c)"
   ]
  },
  {
   "cell_type": "markdown",
   "metadata": {},
   "source": [
    "Read the file b_model.py. It defines a class representing the transverse field ising model for a given choice of coupling parameters. \n",
    "\n",
    "- Calculate the energy for\n",
    "L = 14, J = 1 and g ∈ { 0.5, 1, 1.5 } for each of the above defined two product states. \n",
    "- For later usage, extend the model or write a new model class which also\n",
    "includes the longitudinal field h."
   ]
  },
  {
   "cell_type": "code",
   "execution_count": 22,
   "metadata": {},
   "outputs": [],
   "source": [
    "# Define the models with transverse field for g = 0\n",
    "tf_model_05 = b_model.TFIModel(L = 14, J = 1, g = 0.5)\n",
    "tf_model_10 = b_model.TFIModel(L = 14, J = 1, g = 1)\n",
    "tf_model_15 = b_model.TFIModel(L = 14, J = 1, g = 1.5)"
   ]
  },
  {
   "cell_type": "code",
   "execution_count": 24,
   "metadata": {},
   "outputs": [
    {
     "data": {
      "text/plain": [
       "(-7.0, -14.0, -21.0)"
      ]
     },
     "execution_count": 24,
     "metadata": {},
     "output_type": "execute_result"
    }
   ],
   "source": [
    "# Calculate energies for the spin-up state\n",
    "tf_model_05.energy(spinup_mps), tf_model_10.energy(spinup_mps), tf_model_15.energy(spinup_mps), "
   ]
  },
  {
   "cell_type": "code",
   "execution_count": 26,
   "metadata": {},
   "outputs": [
    {
     "data": {
      "text/plain": [
       "(-12.999999999999996, -12.999999999999996, -12.999999999999996)"
      ]
     },
     "execution_count": 26,
     "metadata": {},
     "output_type": "execute_result"
    }
   ],
   "source": [
    "# Calculate energies for the spin-right state\n",
    "tf_model_05.energy(spinright_mps), tf_model_10.energy(spinright_mps), tf_model_15.energy(spinright_mps), "
   ]
  },
  {
   "cell_type": "code",
   "execution_count": 29,
   "metadata": {},
   "outputs": [
    {
     "data": {
      "text/plain": [
       "-26.999999999999993"
      ]
     },
     "execution_count": 29,
     "metadata": {},
     "output_type": "execute_result"
    }
   ],
   "source": [
    "# Model with longitudinal field\n",
    "tlf_model = b_model.TFIModel(L = 14, J = 1, g = 0.5, h = 1)\n",
    "tlf_model.energy(spinright_mps)"
   ]
  }
 ],
 "metadata": {
  "kernelspec": {
   "display_name": ".venv",
   "language": "python",
   "name": "python3"
  },
  "language_info": {
   "codemirror_mode": {
    "name": "ipython",
    "version": 3
   },
   "file_extension": ".py",
   "mimetype": "text/x-python",
   "name": "python",
   "nbconvert_exporter": "python",
   "pygments_lexer": "ipython3",
   "version": "3.11.4"
  }
 },
 "nbformat": 4,
 "nbformat_minor": 2
}
