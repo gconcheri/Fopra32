{
 "cells": [
  {
   "cell_type": "markdown",
   "metadata": {},
   "source": [
    "# Exercise 4.1 Implementation of the TEBD algorithm"
   ]
  },
  {
   "cell_type": "code",
   "execution_count": 2,
   "metadata": {},
   "outputs": [],
   "source": [
    "import a_mps, b_model, c_tebd"
   ]
  },
  {
   "cell_type": "markdown",
   "metadata": {},
   "source": [
    "## Part a)"
   ]
  },
  {
   "cell_type": "markdown",
   "metadata": {},
   "source": [
    "- Read the code in the file a_mps.py. This file defines the class MPS in an objectoriented approach. In short, defining the class is defining a “type” which collects data in attributes (e.g. MPS.Bs, MPS.L) and has methods (e.g. MPS.site_expectation_value) which can use the attributes (referenced with the special first argument self) for calculations. \n",
    "\n",
    "- Generate an instance of the MPS class representing the state\n",
    "|↑↑ . . . ↑> with the function init_spinup_MPS, for the start with L = 14 sites.\n",
    "\n",
    "- Check that the (site) expectation values of the operators $\\sigma_z = \\left(\\begin{matrix}\n",
    "1 & 0 \\\\\n",
    "0 & -1 \n",
    "\\end{matrix}\\right)$ and $\\sigma_x = \\left(\\begin{matrix}\n",
    "0 & 1 \\\\\n",
    "1 & 0 \n",
    "\\end{matrix}\\right)$ give the expected values."
   ]
  },
  {
   "cell_type": "code",
   "execution_count": null,
   "metadata": {},
   "outputs": [],
   "source": [
    "a_mps.init_spinup_MPS()"
   ]
  }
 ],
 "metadata": {
  "kernelspec": {
   "display_name": ".venv",
   "language": "python",
   "name": "python3"
  },
  "language_info": {
   "codemirror_mode": {
    "name": "ipython",
    "version": 3
   },
   "file_extension": ".py",
   "mimetype": "text/x-python",
   "name": "python",
   "nbconvert_exporter": "python",
   "pygments_lexer": "ipython3",
   "version": "3.11.4"
  }
 },
 "nbformat": 4,
 "nbformat_minor": 2
}
