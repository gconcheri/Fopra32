{
 "cells": [
  {
   "cell_type": "markdown",
   "metadata": {},
   "source": [
    "# Part 2: Dynamic Spin Structure Factor "
   ]
  },
  {
   "cell_type": "code",
   "execution_count": 1,
   "metadata": {},
   "outputs": [],
   "source": [
    "import a_mps, b_model, c_tebd\n",
    "import numpy as np\n",
    "import importlib\n",
    "import matplotlib.pyplot as plt"
   ]
  },
  {
   "cell_type": "code",
   "execution_count": 7,
   "metadata": {},
   "outputs": [
    {
     "data": {
      "text/plain": [
       "<module 'c_tebd' from 'c:\\\\Users\\\\work\\\\OneDrive - TUM\\\\Dokumente\\\\Studium\\\\QST MSc\\\\FoPra\\\\FoPra 32\\\\c_tebd.py'>"
      ]
     },
     "execution_count": 7,
     "metadata": {},
     "output_type": "execute_result"
    }
   ],
   "source": [
    "importlib.reload(a_mps)\n",
    "importlib.reload(b_model)\n",
    "importlib.reload(c_tebd)"
   ]
  },
  {
   "cell_type": "markdown",
   "metadata": {},
   "source": [
    "## Part a)"
   ]
  },
  {
   "cell_type": "markdown",
   "metadata": {},
   "source": [
    "- Use the TEBD algorithm to write some code that performs a time evolution and calculates correlation functions of the form $C(t, j) = <\\psi_0| e^{i H t} \\sigma_j^y e^{-i H t} \\sigma^y_{L/2}|\\psi_0>$, where $|\\psi_0>$ is the ground state of the transverse field Ising model. \n",
    "- During the time evolution, make sure to save the bipartite von-Neumann entanglement entropy $S(t) = −\\sum_\\alpha \\Lambda_a^2(t) ln(\\Lambda_\\alpha^2(t))$, where $\\Lambda_\\alpha$ are the Schmidt values on the bond at the center of the time evolved state $|\\psi(t)> = $e^{−iHt}\\sigma^y_{L/2} |\\psi_0>$."
   ]
  },
  {
   "cell_type": "code",
   "execution_count": 3,
   "metadata": {},
   "outputs": [],
   "source": [
    "sigma_z = np.array([[1, 0], [0, -1]])\n",
    "sigma_x = np.array([[0, 1], [1, 0]])\n",
    "sigma_y = np.array([[0, -1j], [1j, 0]])"
   ]
  },
  {
   "cell_type": "code",
   "execution_count": 24,
   "metadata": {},
   "outputs": [],
   "source": [
    "def calc_ground_state(L, J, g, h, dt):\n",
    "    E_0, psi_0, model = c_tebd.example_TEBD_gs_finite(L, J, g, h) # get the ground state and ground state energy\n",
    "    U_bonds_0 = c_tebd.calc_U_bonds(model, dt)\n",
    "    return E_0, psi_0, model, U_bonds_0"
   ]
  },
  {
   "cell_type": "code",
   "execution_count": 28,
   "metadata": {},
   "outputs": [],
   "source": [
    "def calc_time_evolution(t, dt, psi_0, U_bonds_0, L = 30, J = 1, g = 1, h = 1):\n",
    "    \"\"\"Calculate e^-iHt sigma^y_(L/2)|psi_0>\"\"\"\n",
    "    psi_t = psi_0.copy()\n",
    "    psi_t_y = np.tensordot(sigma_y, psi_t.Bs[int(L//2)], [1, 1]) # i [i*], vL [i] vR\n",
    "    psi_t.Bs[L//2] = psi_t_y.transpose([1, 0, 2]) # vL i vR\n",
    "    entropies = [psi_t.entanglement_entropy()]\n",
    "    psi_ts = [psi_t.copy()]\n",
    "    for i in range(int(t//dt)):\n",
    "        c_tebd.run_TEBD(psi = psi_t, U_bonds = U_bonds_0, N_steps = 1, chi_max = 100, eps = 10**(-6))\n",
    "        entropies.append(psi_t.entanglement_entropy())\n",
    "        psi_ts.append(psi_t.copy())\n",
    "    return psi_ts, entropies"
   ]
  },
  {
   "cell_type": "code",
   "execution_count": 37,
   "metadata": {},
   "outputs": [
    {
     "name": "stdout",
     "output_type": "stream",
     "text": [
      "finite TEBD, (imaginary time evolution)\n",
      "L=20, J=1.0, g=0.50, h=0\n",
      "dt = 0.10000: E = -20.3971033140100\n",
      "dt = 0.01000: E = -20.3999098470175\n"
     ]
    }
   ],
   "source": [
    "E_0, psi_0, model, U_bonds_0 = calc_ground_state(L = 20, J = 1, g = 0.5, h = 0, dt = 0.1)"
   ]
  },
  {
   "cell_type": "code",
   "execution_count": 32,
   "metadata": {},
   "outputs": [],
   "source": [
    "psi_ts, entropies = calc_time_evolution(10, 0.01, psi_0, U_bonds_0, L = 20, J = 1, g = 0.5, h = 0)"
   ]
  },
  {
   "cell_type": "code",
   "execution_count": 35,
   "metadata": {},
   "outputs": [
    {
     "data": {
      "image/png": "[encoded data removed]",
      "text/plain": [
       "<Figure size 640x480 with 1 Axes>"
      ]
     },
     "metadata": {},
     "output_type": "display_data"
    }
   ],
   "source": [
    "entropies = np.array(entropies)\n",
    "plt.imshow(entropies, aspect = 'auto')\n",
    "plt.show()"
   ]
  },
  {
   "cell_type": "code",
   "execution_count": 29,
   "metadata": {},
   "outputs": [],
   "source": [
    "def calc_all_contractions_from_right(psi_1, psi_2, L):\n",
    "    contractions_from_right = [np.tensordot(psi_1.Bs[L-1], np.conjugate(psi_2.Bs[L-1]), [[1,2], [1,2]])] # vL [i] [vR], vL* [i*] [vR*]\n",
    "    for j in range(1, L-2):\n",
    "        right_side = np.tensordot(psi_1.Bs[L-j-1], contractions_from_right[j-1], [2, 0]) # vL i [vR], [vL] vL*\n",
    "        contractions_from_right.append(np.tensordot(np.conjugate(psi_2.Bs[L-j-1]), right_side, [[1,2], [1,2]])) # vL* [i*] [vR*], vL [i] [vL*]\n",
    "    return contractions_from_right"
   ]
  },
  {
   "cell_type": "code",
   "execution_count": null,
   "metadata": {},
   "outputs": [],
   "source": [
    "def calc_all_contractions_from_left_op(psi_1, psi_2, L, op):\n",
    "    contractions_from_left = [np.tensordot(psi_1.Ss[0], np.conjugate(psi_2.Ss[0]), [0,0])] # [vL] vR, [vL*] vR*\n",
    "    contractions_from_left_with_op = []\n",
    "    for j in range(L):\n",
    "        left_side = np.tensordot(contractions_from_left[j], psi_1.Bs[j], [0,0]) # [vR] vR*, [vL] i vR\n",
    "        contractions_from_left.append(np.tensordot(left_side, np.conjugate(psi_2.Bs[j]))) # vR* i vR, vL i vR"
   ]
  },
  {
   "cell_type": "code",
   "execution_count": 14,
   "metadata": {},
   "outputs": [],
   "source": [
    "def dssf_corr(t, dt, L = 30, J = 1, g = 1, h = 1):\n",
    "    \"\"\"Calculate correlation functions of the form <psi_0|e^iHt sigma^y_j e^-iHt sigma^y_(L/2)|psi_0> for all j\"\"\"\n",
    "    E_0, psi_0, model, U_bonds_0 = calc_ground_state(L, J, g, h, dt) # get ground state\n",
    "    psi_ts, entropies = calc_time_evolution(t, dt, psi_0, U_bonds_0, L, J, g, h)\n",
    "    C = []\n",
    "    for psi_t in psi_ts:\n",
    "        c_list = []\n",
    "        contractions_from_right = calc_all_contractions_from_right(psi_0, psi_t, L)\n",
    "        left_side = \n",
    "        for j in range(L):\n",
    "            left_side = \n",
    "            \n",
    "    \n",
    "    \n",
    "    \n",
    "    \n",
    "    \n",
    "    psi_t = np.exp(1j * E_0 * t) * psi_t"
   ]
  }
 ],
 "metadata": {
  "kernelspec": {
   "display_name": ".venv",
   "language": "python",
   "name": "python3"
  },
  "language_info": {
   "codemirror_mode": {
    "name": "ipython",
    "version": 3
   },
   "file_extension": ".py",
   "mimetype": "text/x-python",
   "name": "python",
   "nbconvert_exporter": "python",
   "pygments_lexer": "ipython3",
   "version": "3.11.4"
  }
 },
 "nbformat": 4,
 "nbformat_minor": 2
}
