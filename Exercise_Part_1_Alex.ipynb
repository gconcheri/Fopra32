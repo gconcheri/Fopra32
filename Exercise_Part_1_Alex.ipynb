{
 "cells": [
  {
   "cell_type": "markdown",
   "metadata": {},
   "source": [
    "# Exercise 4.1 Implementation of the TEBD algorithm"
   ]
  },
  {
   "cell_type": "code",
   "execution_count": 41,
   "metadata": {},
   "outputs": [
    {
     "name": "stdout",
     "output_type": "stream",
     "text": [
      "Collecting matplotlib\n",
      "  Downloading matplotlib-3.8.4-cp311-cp311-win_amd64.whl.metadata (5.9 kB)\n",
      "Collecting contourpy>=1.0.1 (from matplotlib)\n",
      "  Downloading contourpy-1.2.1-cp311-cp311-win_amd64.whl.metadata (5.8 kB)\n",
      "Collecting cycler>=0.10 (from matplotlib)\n",
      "  Using cached cycler-0.12.1-py3-none-any.whl.metadata (3.8 kB)\n",
      "Collecting fonttools>=4.22.0 (from matplotlib)\n",
      "  Downloading fonttools-4.51.0-cp311-cp311-win_amd64.whl.metadata (162 kB)\n",
      "     ---------------------------------------- 0.0/162.8 kB ? eta -:--:--\n",
      "     -------------------------------------- 162.8/162.8 kB 4.9 MB/s eta 0:00:00\n",
      "Collecting kiwisolver>=1.3.1 (from matplotlib)\n",
      "  Using cached kiwisolver-1.4.5-cp311-cp311-win_amd64.whl.metadata (6.5 kB)\n",
      "Requirement already satisfied: numpy>=1.21 in c:\\users\\work\\onedrive - tum\\dokumente\\studium\\qst msc\\fopra\\fopra 32\\.venv\\lib\\site-packages (from matplotlib) (1.26.4)\n",
      "Requirement already satisfied: packaging>=20.0 in c:\\users\\work\\onedrive - tum\\dokumente\\studium\\qst msc\\fopra\\fopra 32\\.venv\\lib\\site-packages (from matplotlib) (24.0)\n",
      "Collecting pillow>=8 (from matplotlib)\n",
      "  Downloading pillow-10.3.0-cp311-cp311-win_amd64.whl.metadata (9.4 kB)\n",
      "Collecting pyparsing>=2.3.1 (from matplotlib)\n",
      "  Downloading pyparsing-3.1.2-py3-none-any.whl.metadata (5.1 kB)\n",
      "Requirement already satisfied: python-dateutil>=2.7 in c:\\users\\work\\onedrive - tum\\dokumente\\studium\\qst msc\\fopra\\fopra 32\\.venv\\lib\\site-packages (from matplotlib) (2.9.0.post0)\n",
      "Requirement already satisfied: six>=1.5 in c:\\users\\work\\onedrive - tum\\dokumente\\studium\\qst msc\\fopra\\fopra 32\\.venv\\lib\\site-packages (from python-dateutil>=2.7->matplotlib) (1.16.0)\n",
      "Downloading matplotlib-3.8.4-cp311-cp311-win_amd64.whl (7.7 MB)\n",
      "   ---------------------------------------- 0.0/7.7 MB ? eta -:--:--\n",
      "   ----- ---------------------------------- 1.1/7.7 MB 34.4 MB/s eta 0:00:01\n",
      "   -------------- ------------------------- 2.7/7.7 MB 28.5 MB/s eta 0:00:01\n",
      "   ----------------------- ---------------- 4.5/7.7 MB 31.6 MB/s eta 0:00:01\n",
      "   -------------------------- ------------- 5.0/7.7 MB 29.1 MB/s eta 0:00:01\n",
      "   -------------------------- ------------- 5.2/7.7 MB 23.5 MB/s eta 0:00:01\n",
      "   ------------------------------ --------- 5.8/7.7 MB 21.6 MB/s eta 0:00:01\n",
      "   ---------------------------------- ----- 6.6/7.7 MB 20.1 MB/s eta 0:00:01\n",
      "   ------------------------------------- -- 7.1/7.7 MB 19.0 MB/s eta 0:00:01\n",
      "   ---------------------------------------  7.6/7.7 MB 18.8 MB/s eta 0:00:01\n",
      "   ---------------------------------------- 7.7/7.7 MB 17.5 MB/s eta 0:00:00\n",
      "Downloading contourpy-1.2.1-cp311-cp311-win_amd64.whl (188 kB)\n",
      "   ---------------------------------------- 0.0/188.2 kB ? eta -:--:--\n",
      "   --------------------------------------- 188.2/188.2 kB 11.1 MB/s eta 0:00:00\n",
      "Using cached cycler-0.12.1-py3-none-any.whl (8.3 kB)\n",
      "Downloading fonttools-4.51.0-cp311-cp311-win_amd64.whl (2.2 MB)\n",
      "   ---------------------------------------- 0.0/2.2 MB ? eta -:--:--\n",
      "   -------------- ------------------------- 0.8/2.2 MB 26.1 MB/s eta 0:00:01\n",
      "   -------------------------------------- - 2.1/2.2 MB 22.2 MB/s eta 0:00:01\n",
      "   ---------------------------------------- 2.2/2.2 MB 19.8 MB/s eta 0:00:00\n",
      "Using cached kiwisolver-1.4.5-cp311-cp311-win_amd64.whl (56 kB)\n",
      "Downloading pillow-10.3.0-cp311-cp311-win_amd64.whl (2.5 MB)\n",
      "   ---------------------------------------- 0.0/2.5 MB ? eta -:--:--\n",
      "   ----------------------- ---------------- 1.5/2.5 MB 31.2 MB/s eta 0:00:01\n",
      "   ------------------------------------- -- 2.4/2.5 MB 25.4 MB/s eta 0:00:01\n",
      "   ---------------------------------------  2.5/2.5 MB 19.7 MB/s eta 0:00:01\n",
      "   ---------------------------------------- 2.5/2.5 MB 14.7 MB/s eta 0:00:00\n",
      "Downloading pyparsing-3.1.2-py3-none-any.whl (103 kB)\n",
      "   ---------------------------------------- 0.0/103.2 kB ? eta -:--:--\n",
      "   ---------------------------------------- 103.2/103.2 kB 6.2 MB/s eta 0:00:00\n",
      "Installing collected packages: pyparsing, pillow, kiwisolver, fonttools, cycler, contourpy, matplotlib\n",
      "Successfully installed contourpy-1.2.1 cycler-0.12.1 fonttools-4.51.0 kiwisolver-1.4.5 matplotlib-3.8.4 pillow-10.3.0 pyparsing-3.1.2\n",
      "Note: you may need to restart the kernel to use updated packages.\n"
     ]
    }
   ],
   "source": [
    "pip install matplotlib"
   ]
  },
  {
   "cell_type": "code",
   "execution_count": 42,
   "metadata": {},
   "outputs": [],
   "source": [
    "import a_mps, b_model, c_tebd\n",
    "import numpy as np\n",
    "import importlib\n",
    "import matplotlib.pyplot as plt"
   ]
  },
  {
   "cell_type": "code",
   "execution_count": 14,
   "metadata": {},
   "outputs": [
    {
     "data": {
      "text/plain": [
       "<module 'c_tebd' from 'c:\\\\Users\\\\work\\\\OneDrive - TUM\\\\Dokumente\\\\Studium\\\\QST MSc\\\\FoPra\\\\FoPra 32\\\\c_tebd.py'>"
      ]
     },
     "execution_count": 14,
     "metadata": {},
     "output_type": "execute_result"
    }
   ],
   "source": [
    "importlib.reload(a_mps)\n",
    "importlib.reload(b_model)\n",
    "importlib.reload(c_tebd)"
   ]
  },
  {
   "cell_type": "markdown",
   "metadata": {},
   "source": [
    "## Part a)"
   ]
  },
  {
   "cell_type": "markdown",
   "metadata": {},
   "source": [
    "- Read the code in the file a_mps.py. This file defines the class MPS in an objectoriented approach. In short, defining the class is defining a “type” which collects data in attributes (e.g. MPS.Bs, MPS.L) and has methods (e.g. MPS.site_expectation_value) which can use the attributes (referenced with the special first argument self) for calculations. \n",
    "\n",
    "- Generate an instance of the MPS class representing the state\n",
    "|↑↑ . . . ↑> with the function init_spinup_MPS, for the start with L = 14 sites.\n",
    "\n",
    "- Check that the (site) expectation values of the operators $\\sigma_z = \\left(\\begin{matrix}\n",
    "1 & 0 \\\\\n",
    "0 & -1 \n",
    "\\end{matrix}\\right)$ and $\\sigma_x = \\left(\\begin{matrix}\n",
    "0 & 1 \\\\\n",
    "1 & 0 \n",
    "\\end{matrix}\\right)$ give the expected values."
   ]
  },
  {
   "cell_type": "code",
   "execution_count": 4,
   "metadata": {},
   "outputs": [],
   "source": [
    "spinup_mps = a_mps.init_spinup_MPS(L = 14)"
   ]
  },
  {
   "cell_type": "code",
   "execution_count": 5,
   "metadata": {},
   "outputs": [],
   "source": [
    "sigma_z = np.array([[1, 0], [0, -1]])\n",
    "sigma_x = np.array([[0, 1], [1, 0]])"
   ]
  },
  {
   "cell_type": "code",
   "execution_count": 6,
   "metadata": {},
   "outputs": [
    {
     "data": {
      "text/plain": [
       "array([1., 1., 1., 1., 1., 1., 1., 1., 1., 1., 1., 1., 1., 1.])"
      ]
     },
     "execution_count": 6,
     "metadata": {},
     "output_type": "execute_result"
    }
   ],
   "source": [
    "# Sigma z expectation value\n",
    "spinup_mps.site_expectation_value(sigma_z)"
   ]
  },
  {
   "cell_type": "code",
   "execution_count": 7,
   "metadata": {},
   "outputs": [
    {
     "data": {
      "text/plain": [
       "array([0., 0., 0., 0., 0., 0., 0., 0., 0., 0., 0., 0., 0., 0.])"
      ]
     },
     "execution_count": 7,
     "metadata": {},
     "output_type": "execute_result"
    }
   ],
   "source": [
    "# Sigma x expectation value\n",
    "spinup_mps.site_expectation_value(sigma_x)"
   ]
  },
  {
   "cell_type": "markdown",
   "metadata": {},
   "source": [
    "## Part b)"
   ]
  },
  {
   "cell_type": "markdown",
   "metadata": {},
   "source": [
    "- Write a function similar to init_spinup_MPS, but initialize an MPS for the state|→→ · · · →>. \n",
    "- Check the expectation values again.\n",
    "\n",
    "Hint: This state is also a product state of |→i = 1 √2\n",
    "(|↑i + |↓i), so the singular values remain the same and the shape of each B is still (1,2,1). You should expect rounding errors of the order of machine precision ≈ 10−15."
   ]
  },
  {
   "cell_type": "code",
   "execution_count": 16,
   "metadata": {},
   "outputs": [],
   "source": [
    "spinright_mps = a_mps.init_spinright_MPS(L = 14)"
   ]
  },
  {
   "cell_type": "code",
   "execution_count": 19,
   "metadata": {},
   "outputs": [
    {
     "data": {
      "text/plain": [
       "array([0., 0., 0., 0., 0., 0., 0., 0., 0., 0., 0., 0., 0., 0.])"
      ]
     },
     "execution_count": 19,
     "metadata": {},
     "output_type": "execute_result"
    }
   ],
   "source": [
    "# Sigma z expectation value\n",
    "spinright_mps.site_expectation_value(sigma_z)"
   ]
  },
  {
   "cell_type": "code",
   "execution_count": 20,
   "metadata": {},
   "outputs": [
    {
     "data": {
      "text/plain": [
       "array([1., 1., 1., 1., 1., 1., 1., 1., 1., 1., 1., 1., 1., 1.])"
      ]
     },
     "execution_count": 20,
     "metadata": {},
     "output_type": "execute_result"
    }
   ],
   "source": [
    "# Sigma x expectation value\n",
    "spinright_mps.site_expectation_value(sigma_x)"
   ]
  },
  {
   "cell_type": "markdown",
   "metadata": {},
   "source": [
    "## Part c)"
   ]
  },
  {
   "cell_type": "markdown",
   "metadata": {},
   "source": [
    "Read the file b_model.py. It defines a class representing the transverse field ising model for a given choice of coupling parameters. \n",
    "\n",
    "- Calculate the energy for\n",
    "L = 14, J = 1 and g ∈ { 0.5, 1, 1.5 } for each of the above defined two product states. \n",
    "- For later usage, extend the model or write a new model class which also\n",
    "includes the longitudinal field h."
   ]
  },
  {
   "cell_type": "code",
   "execution_count": 22,
   "metadata": {},
   "outputs": [],
   "source": [
    "# Define the models with transverse field for g = 0\n",
    "tf_model_05 = b_model.TFIModel(L = 14, J = 1, g = 0.5)\n",
    "tf_model_10 = b_model.TFIModel(L = 14, J = 1, g = 1)\n",
    "tf_model_15 = b_model.TFIModel(L = 14, J = 1, g = 1.5)"
   ]
  },
  {
   "cell_type": "code",
   "execution_count": 24,
   "metadata": {},
   "outputs": [
    {
     "data": {
      "text/plain": [
       "(-7.0, -14.0, -21.0)"
      ]
     },
     "execution_count": 24,
     "metadata": {},
     "output_type": "execute_result"
    }
   ],
   "source": [
    "# Calculate energies for the spin-up state\n",
    "tf_model_05.energy(spinup_mps), tf_model_10.energy(spinup_mps), tf_model_15.energy(spinup_mps), "
   ]
  },
  {
   "cell_type": "code",
   "execution_count": 26,
   "metadata": {},
   "outputs": [
    {
     "data": {
      "text/plain": [
       "(-12.999999999999996, -12.999999999999996, -12.999999999999996)"
      ]
     },
     "execution_count": 26,
     "metadata": {},
     "output_type": "execute_result"
    }
   ],
   "source": [
    "# Calculate energies for the spin-right state\n",
    "tf_model_05.energy(spinright_mps), tf_model_10.energy(spinright_mps), tf_model_15.energy(spinright_mps), "
   ]
  },
  {
   "cell_type": "code",
   "execution_count": 29,
   "metadata": {},
   "outputs": [
    {
     "data": {
      "text/plain": [
       "-26.999999999999993"
      ]
     },
     "execution_count": 29,
     "metadata": {},
     "output_type": "execute_result"
    }
   ],
   "source": [
    "# Model with longitudinal field\n",
    "tlf_model = b_model.TFIModel(L = 14, J = 1, g = 0.5, h = 1)\n",
    "tlf_model.energy(spinright_mps)"
   ]
  },
  {
   "cell_type": "markdown",
   "metadata": {},
   "source": [
    "## Part d)"
   ]
  },
  {
   "cell_type": "markdown",
   "metadata": {},
   "source": [
    "- Read the file c_tebd.py, which implements the time evolving block decimation. \n",
    "- Call the function example_TEBD_gs_finite, which performs an imaginary time evolution to project onto the ground state."
   ]
  },
  {
   "cell_type": "code",
   "execution_count": 30,
   "metadata": {},
   "outputs": [
    {
     "name": "stdout",
     "output_type": "stream",
     "text": [
      "finite TEBD, (imaginary time evolution)\n",
      "L=14, J=1.0, g=1.00\n",
      "dt = 0.10000: E = -17.4149126671984\n",
      "dt = 0.01000: E = -17.4657339106461\n",
      "dt = 0.00100: E = -17.4704766397477\n",
      "dt = 0.00010: E = -17.4709480543445\n",
      "dt = 0.00001: E = -17.4709952214514\n",
      "final bond dimensions:  [2, 4, 8, 16, 21, 24, 24, 24, 21, 16, 8, 4, 2]\n"
     ]
    },
    {
     "data": {
      "text/plain": [
       "(-17.470995221451425,\n",
       " <a_mps.MPS at 0x1d9f420cd50>,\n",
       " <b_model.TFIModel at 0x1d9dda8dfd0>)"
      ]
     },
     "execution_count": 30,
     "metadata": {},
     "output_type": "execute_result"
    }
   ],
   "source": [
    "c_tebd.example_TEBD_gs_finite(L = 14, J = 1, g = 1)"
   ]
  },
  {
   "cell_type": "markdown",
   "metadata": {},
   "source": [
    "# Exercise 4.2 Ground State Phase Diagram"
   ]
  },
  {
   "cell_type": "markdown",
   "metadata": {},
   "source": [
    "## Part a)"
   ]
  },
  {
   "cell_type": "markdown",
   "metadata": {},
   "source": [
    "Write a function to (efficiently) calculate (equal-time) correlation functions like <ψ|XiYj |ψ> for some single-site operators X, Y , which are applied on sites i and j, respectively. The functions should take |ψ> ,X, Y and i as an input and calculate the correlations <ψ|XiYj |ψ> for all j ≥ i."
   ]
  },
  {
   "cell_type": "code",
   "execution_count": 17,
   "metadata": {},
   "outputs": [
    {
     "data": {
      "text/plain": [
       "[1.0,\n",
       " array(0.),\n",
       " array(0.),\n",
       " array(0.),\n",
       " array(0.),\n",
       " array(0.),\n",
       " array(0.),\n",
       " array(0.),\n",
       " array(0.),\n",
       " array(0.),\n",
       " array(0.),\n",
       " array(0.),\n",
       " array(0.)]"
      ]
     },
     "execution_count": 17,
     "metadata": {},
     "output_type": "execute_result"
    }
   ],
   "source": [
    "spinup_mps_2 = a_mps.init_spinup_MPS(L = 14)\n",
    "spinup_mps_2.correltation_function(sigma_x, sigma_x, 1)"
   ]
  },
  {
   "cell_type": "markdown",
   "metadata": {},
   "source": [
    "## Part b)"
   ]
  },
  {
   "cell_type": "markdown",
   "metadata": {},
   "source": [
    "Run TEBD in imaginary time for some values of g and L = 30 (e.g. g = 0.3, 0.5, 0.8, 0.9, 1., 1.1, 1.2, 1 5). Calculate and plot the correlations <σxL/4 σx_j>. Does it agree with your expectations? How do the correlations decay at g = 1 and g > 1?"
   ]
  },
  {
   "cell_type": "code",
   "execution_count": 33,
   "metadata": {},
   "outputs": [
    {
     "name": "stdout",
     "output_type": "stream",
     "text": [
      "finite TEBD, (imaginary time evolution)\n",
      "L=30, J=1.0, g=0.30\n",
      "dt = 0.10000: E = -29.7237778057965\n",
      "dt = 0.01000: E = -29.7243442589172\n",
      "dt = 0.00100: E = -29.7244030096187\n",
      "dt = 0.00010: E = -29.7244089062471\n",
      "dt = 0.00001: E = -29.7244094959373\n",
      "final bond dimensions:  [2, 4, 8, 12, 14, 14, 14, 14, 14, 14, 14, 14, 14, 14, 14, 14, 14, 14, 14, 14, 14, 14, 14, 14, 14, 12, 8, 4, 2]\n",
      "finite TEBD, (imaginary time evolution)\n",
      "L=30, J=1.0, g=0.50\n",
      "dt = 0.10000: E = -31.0307109228222\n",
      "dt = 0.01000: E = -31.0351587180616\n",
      "dt = 0.00100: E = -31.0356104605838\n",
      "dt = 0.00010: E = -31.0356557268945\n",
      "dt = 0.00001: E = -31.0356602537848\n",
      "final bond dimensions:  [2, 4, 8, 14, 18, 20, 20, 20, 20, 20, 20, 20, 20, 20, 20, 20, 20, 20, 20, 20, 20, 20, 20, 20, 18, 14, 8, 4, 2]\n",
      "finite TEBD, (imaginary time evolution)\n",
      "L=30, J=1.0, g=0.90\n",
      "dt = 0.10000: E = -35.8871314247928\n",
      "dt = 0.01000: E = -35.9508804906787\n",
      "dt = 0.00100: E = -35.9569507821110\n",
      "dt = 0.00010: E = -35.9575557280163\n",
      "dt = 0.00001: E = -35.9576162465736\n",
      "final bond dimensions:  [2, 4, 8, 16, 22, 30, 34, 34, 38, 39, 42, 44, 44, 44, 44, 44, 44, 44, 42, 39, 38, 34, 34, 30, 22, 16, 8, 4, 2]\n",
      "finite TEBD, (imaginary time evolution)\n",
      "L=30, J=1.0, g=1.00\n",
      "dt = 0.10000: E = -37.7094344872467\n",
      "dt = 0.01000: E = -37.8257613742825\n",
      "dt = 0.00100: E = -37.8368615211482\n",
      "dt = 0.00010: E = -37.8379674532340\n",
      "dt = 0.00001: E = -37.8380781125824\n",
      "final bond dimensions:  [2, 4, 8, 16, 22, 28, 33, 34, 36, 37, 41, 41, 44, 44, 44, 44, 44, 41, 41, 37, 36, 34, 33, 28, 22, 16, 8, 4, 2]\n",
      "finite TEBD, (imaginary time evolution)\n",
      "L=30, J=1.0, g=1.10\n",
      "dt = 0.10000: E = -39.8239785695510\n",
      "dt = 0.01000: E = -39.9817074228725\n",
      "dt = 0.00100: E = -39.9967777459794\n",
      "dt = 0.00010: E = -39.9982783445961\n",
      "dt = 0.00001: E = -39.9984284991299\n",
      "final bond dimensions:  [2, 4, 8, 15, 22, 25, 29, 32, 34, 35, 35, 36, 37, 37, 37, 37, 37, 36, 35, 35, 34, 32, 29, 25, 22, 15, 8, 4, 2]\n",
      "finite TEBD, (imaginary time evolution)\n",
      "L=30, J=1.0, g=1.20\n",
      "dt = 0.10000: E = -42.1343123498877\n",
      "dt = 0.01000: E = -42.3199243487283\n",
      "dt = 0.00100: E = -42.3376905321097\n",
      "dt = 0.00010: E = -42.3394588598114\n",
      "dt = 0.00001: E = -42.3396358064185\n",
      "final bond dimensions:  [2, 4, 8, 14, 20, 24, 26, 28, 29, 30, 30, 31, 32, 32, 32, 32, 32, 31, 30, 30, 29, 28, 26, 24, 20, 14, 8, 4, 2]\n",
      "finite TEBD, (imaginary time evolution)\n",
      "L=30, J=1.0, g=1.50\n",
      "dt = 0.10000: E = -49.7168748869192\n",
      "dt = 0.01000: E = -49.9489661365705\n",
      "dt = 0.00100: E = -49.9713017202359\n",
      "dt = 0.00010: E = -49.9735234897800\n",
      "dt = 0.00001: E = -49.9737458215903\n",
      "final bond dimensions:  [2, 4, 8, 13, 17, 20, 20, 20, 20, 21, 21, 21, 21, 21, 21, 21, 21, 21, 21, 21, 20, 20, 20, 20, 17, 13, 8, 4, 2]\n"
     ]
    }
   ],
   "source": [
    "psis = []\n",
    "for g_i in [0.3, 0.5, 0.9, 1, 1.1, 1.2, 1.5]:\n",
    "    psis.append(c_tebd.example_TEBD_gs_finite(L = 30, J = 1, g = g_i)[1])"
   ]
  },
  {
   "cell_type": "markdown",
   "metadata": {},
   "source": [
    "## Part c)"
   ]
  },
  {
   "cell_type": "markdown",
   "metadata": {},
   "source": [
    "Plot the phase transition in the order parameter m (magnetization) by using the relation\n",
    "\n",
    "<σx_i σx_j> → m^2 for |i − j| → ∞,\n",
    "\n",
    "meaning that the correlations approach a constant value of the magnetization squared for large distances. Make sure to exclude boundary effects."
   ]
  },
  {
   "cell_type": "code",
   "execution_count": 38,
   "metadata": {},
   "outputs": [],
   "source": [
    "corrs = []\n",
    "for psi in psis:\n",
    "    corrs.append(psi.correltation_function(sigma_x, sigma_x, 8))"
   ]
  },
  {
   "cell_type": "code",
   "execution_count": 43,
   "metadata": {},
   "outputs": [
    {
     "data": {
      "text/plain": [
       "Text(0, 0.5, 'Correlation $<\\\\sigma_x^i \\\\sigma_x^j>$')"
      ]
     },
     "execution_count": 43,
     "metadata": {},
     "output_type": "execute_result"
    },
    {
     "data": {
      "image/png": "[encoded data removed]",
      "text/plain": [
       "<Figure size 640x480 with 1 Axes>"
      ]
     },
     "metadata": {},
     "output_type": "display_data"
    }
   ],
   "source": [
    "# Plot Correlation\n",
    "\n",
    "fig = plt.figure()\n",
    "gs = [0.3, 0.5, 0.9, 1, 1.1, 1.2, 1.5]\n",
    "x = [j for j in range(30 - 8)]\n",
    "for i in range(len(corrs)):\n",
    "    plt.plot(x, corrs[i], label = F\"g = {gs[i]}\")\n",
    "plt.legend()\n",
    "plt.xlabel(r\"Distance $|i - j|$\")\n",
    "plt.ylabel(r\"Correlation $<\\sigma_x^i \\sigma_x^j>$\")"
   ]
  },
  {
   "cell_type": "code",
   "execution_count": 54,
   "metadata": {},
   "outputs": [
    {
     "data": {
      "text/plain": [
       "Text(0, 0.5, 'Magnetization $m$')"
      ]
     },
     "execution_count": 54,
     "metadata": {},
     "output_type": "execute_result"
    },
    {
     "data": {
      "image/png": "[encoded data removed]",
      "text/plain": [
       "<Figure size 640x480 with 1 Axes>"
      ]
     },
     "metadata": {},
     "output_type": "display_data"
    }
   ],
   "source": [
    "# Plot Magneitzation\n",
    "\n",
    "mag = []\n",
    "for c in corrs:\n",
    "    mag.append(np.sqrt(c[18]))\n",
    "    \n",
    "plt.scatter(gs, mag)\n",
    "plt.plot(gs, mag, \"-\")\n",
    "plt.xlabel(r\"Coupling strength $g$\")\n",
    "plt.ylabel(r\"Magnetization $m$\")"
   ]
  }
 ],
 "metadata": {
  "kernelspec": {
   "display_name": ".venv",
   "language": "python",
   "name": "python3"
  },
  "language_info": {
   "codemirror_mode": {
    "name": "ipython",
    "version": 3
   },
   "file_extension": ".py",
   "mimetype": "text/x-python",
   "name": "python",
   "nbconvert_exporter": "python",
   "pygments_lexer": "ipython3",
   "version": "3.11.4"
  }
 },
 "nbformat": 4,
 "nbformat_minor": 2
}
