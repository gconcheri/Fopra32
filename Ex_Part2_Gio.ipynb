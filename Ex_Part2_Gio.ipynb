{
 "cells": [
  {
   "cell_type": "markdown",
   "metadata": {},
   "source": [
    "# Part 2: Dynamical spin structure factor"
   ]
  },
  {
   "cell_type": "markdown",
   "metadata": {},
   "source": [
    "## Part a"
   ]
  },
  {
   "cell_type": "code",
   "execution_count": 122,
   "metadata": {},
   "outputs": [],
   "source": [
    "import a_mps_Gio, b_model_Gio, c_tebd_Gio\n",
    "import numpy as np\n",
    "from scipy.linalg import svd\n",
    "import importlib \n",
    "import matplotlib.pyplot as plt\n"
   ]
  },
  {
   "cell_type": "code",
   "execution_count": 24,
   "metadata": {},
   "outputs": [
    {
     "data": {
      "text/plain": [
       "<module 'c_tebd_Gio' from '/Users/Giovanni/Desktop/Fopra32/fopra32_summerterm2024/c_tebd_Gio.py'>"
      ]
     },
     "execution_count": 24,
     "metadata": {},
     "output_type": "execute_result"
    }
   ],
   "source": [
    "importlib.reload(a_mps_Gio)\n",
    "importlib.reload(b_model_Gio)\n",
    "importlib.reload(c_tebd_Gio)"
   ]
  },
  {
   "cell_type": "code",
   "execution_count": 123,
   "metadata": {},
   "outputs": [],
   "source": [
    "L = 30\n",
    "J = 1\n",
    "g = 0.6\n",
    "\n",
    "sigmay = np.array([[0,-1j],[1j,0]])\n",
    "sigmax = np.array([[0,1],[1,0]])\n"
   ]
  },
  {
   "cell_type": "markdown",
   "metadata": {},
   "source": [
    "## Right code!"
   ]
  },
  {
   "cell_type": "code",
   "execution_count": 125,
   "metadata": {},
   "outputs": [],
   "source": [
    "def correlation_Ctj(L, J, g, X, Y, T): #model - Hamiltonian, psi - class of wave function, T - last time step \n",
    "    Groundstate = c_tebd_Gio.example_TEBD_gs_finite(L,J,g)\n",
    "    psi = Groundstate[1]\n",
    "    model = Groundstate[2]\n",
    "    psi1 = psi.copy() #take a copy of psi which is ground state\n",
    "    S = []\n",
    "    i = L//2 # i= L//2 index of Y\n",
    "    tensor1 = np.tensordot(psi.Bs[i], Y, [1,1]) # vL [i] vR, i [i*] -> vL vR i\n",
    "    psi.Bs[i] = tensor1.transpose([0,2,1])\n",
    "    U_bond = c_tebd_Gio.calc_U_bonds_real(model, 0.1)\n",
    "    result = []\n",
    "    for r in range(T):\n",
    "        c_tebd_Gio.run_TEBD(psi, U_bond, N_steps=1, chi_max=100, eps=1.e-10) #found new psi by applying e^-iHdt\n",
    "        S.append(psi.entanglement_entropy())\n",
    "        tensor1 = [np.tensordot(psi.Bs[L-1], psi1.Bs[L-1].conj(), [[1,2],[1,2]])] # vL [i] [vR] , vL* [i*] [vR*] -> vL vL*\n",
    "        k=0\n",
    "        #indeces of Bs go from 0 to L-1\n",
    "        #for j in range(10) goes from 0 to 9 \n",
    "        #for j in range (9,0,-1) goes from 9 to 1\n",
    "        for j in range(L-2,0,-1):\n",
    "            tensor2 = np.tensordot(psi.Bs[j],tensor1[k], [2,0]) # vL i [vR] ,[vL] vL* -> vL i vL*\n",
    "            tensor1.append(np.tensordot(tensor2, psi1.Bs[j].conj(), [[1,2],[1,2]])) # vL [i] [vL*], vL* [i*] [vR*] ->  vL vL*\n",
    "            #tensor2 = np.tensordot(psi1.Bs[j], psi.Bs[j].conj(), [1,1])  vL [i] vR , vL* [i*] vR* -> vL vR vL* vR*\n",
    "            #tensor1.append(np.tensordot(tensor2,tensor1[k],[[1,3],[0,1]])) # vL [vR] vL* [vR*], [vL] [vL*] -> vL vL*\n",
    "            k+=1\n",
    "        # print(len(tensor1)) \n",
    "        #k = L-1\n",
    "        result.append([])\n",
    "        tensorA = np.tensordot(psi.Bs[0], psi1.Bs[0].conj(),[[0,1],[0,1]]) # [vL] [i] vR , [vL*] [i*] vR* -> vR vR*\n",
    "        tensorB = np.tensordot(psi.Bs[0], X, [1,1]) # vL [i] vR , i [i*] -> vL vR i\n",
    "        tensorC = np.tensordot(tensorB,psi1.Bs[0].conj(), [[0,2],[0,1]]) # [vL] vR [i], [vL*] [i*] vR* -> vR vR*\n",
    "        result[r].append(np.tensordot(tensorC,tensor1[L-2], [[0,1],[0,1]])) # [vR] [vR*], [vL] [vL*]\n",
    "\n",
    "        for j in range(1,L-1):\n",
    "            tensorB = np.tensordot(psi.Bs[j], X, [1,1]) # vL [i] vR , i [i*] -> vL vR i\n",
    "            tensorbeforeC = np.tensordot(tensorA, tensorB, [0,0]) # [vR] vR*, [vL] vR i -> vR* vR i\n",
    "            tensorC = np.tensordot(tensorbeforeC,psi1.Bs[j].conj(), [[0,2],[0,1]]) # [vR*] vR [i], [vL*] [i*] vR* -> vR vR*\n",
    "            #print(tensorC.shape)\n",
    "            #print(tensor1[L-j-2].shape) #- mettili se c'è sum mismatch prima di un certo tensorproduct\n",
    "            result[r].append(np.tensordot(tensorC,tensor1[L-j-2], [[0,1],[0,1]])) # [vR] [vR*], [vL] [vL*]\n",
    "            #tensorintermediate = np.tensordot(psi1.Bs[j], psi.Bs[j].conj(),[1,1]) # vL [i] vR , vL* [i*] vR* -> vL vR vL* vR*\n",
    "            #tensorloop = np.tensordot(tensorA, tensorintermediate, [[0,1],[0,2]]) # [vR] [vR*], [vL] vR [vL*] vR* -> vR vR*\n",
    "            tensorintermediate = np.tensordot(tensorA, psi.Bs[j], [0,0]) # [vR] vR*, [vL] i vR -> vR* i vR\n",
    "            tensorloop = np.tensordot(tensorintermediate, psi1.Bs[j].conj(), [[0,1],[0,1]]) # [vR*] [i] vR, [vL*] [i*] vR* -> vR vR*\n",
    "            tensorA = tensorloop\n",
    "\n",
    "    return S, result"
   ]
  },
  {
   "cell_type": "code",
   "execution_count": 126,
   "metadata": {},
   "outputs": [
    {
     "name": "stdout",
     "output_type": "stream",
     "text": [
      "finite TEBD, (imaginary time evolution)\n",
      "L=30, J=1.0, g=0.60\n",
      "dt = 0.10000: E = -31.9461931678637\n",
      "dt = 0.01000: E = -31.9555733990987\n",
      "dt = 0.00100: E = -31.9565110620487\n",
      "dt = 0.00010: E = -31.9566048977795\n",
      "dt = 0.00001: E = -31.9566142819885\n",
      "final bond dimensions:  [2, 4, 8, 14, 20, 22, 24, 26, 26, 28, 28, 28, 28, 28, 28, 28, 28, 28, 28, 28, 26, 26, 24, 22, 20, 14, 8, 4, 2]\n"
     ]
    }
   ],
   "source": [
    "C = correlation_Ctj(L,J,g, sigmay,sigmay,100)"
   ]
  },
  {
   "cell_type": "markdown",
   "metadata": {},
   "source": [
    "Plot of Entanglement Entropy"
   ]
  },
  {
   "cell_type": "code",
   "execution_count": 127,
   "metadata": {},
   "outputs": [
    {
     "data": {
      "text/plain": [
       "<matplotlib.colorbar.Colorbar at 0x143bd3290>"
      ]
     },
     "execution_count": 127,
     "metadata": {},
     "output_type": "execute_result"
    },
    {
     "data": {
      "image/png": "[encoded data removed]",
      "text/plain": [
       "<Figure size 640x480 with 2 Axes>"
      ]
     },
     "metadata": {},
     "output_type": "display_data"
    }
   ],
   "source": [
    "#plt.imshow\n",
    "#plt.pcolormesh\n",
    "#plt.plot()\n",
    "#T = np.arange(1,201,1)\n",
    "#print(T)\n",
    "#Hey = [T,S]\n",
    "plt.pcolormesh(C[0], cmap = 'viridis')\n",
    "plt.colorbar()"
   ]
  },
  {
   "cell_type": "markdown",
   "metadata": {},
   "source": [
    "Plot of Correlation Function"
   ]
  },
  {
   "cell_type": "code",
   "execution_count": 128,
   "metadata": {},
   "outputs": [
    {
     "data": {
      "text/plain": [
       "<matplotlib.colorbar.Colorbar at 0x143bd3110>"
      ]
     },
     "execution_count": 128,
     "metadata": {},
     "output_type": "execute_result"
    },
    {
     "data": {
      "image/png": "[encoded data removed]",
      "text/plain": [
       "<Figure size 640x480 with 2 Axes>"
      ]
     },
     "metadata": {},
     "output_type": "display_data"
    }
   ],
   "source": [
    "plt.pcolormesh(np.abs(C[1]), cmap = 'viridis')\n",
    "plt.colorbar()"
   ]
  },
  {
   "cell_type": "markdown",
   "metadata": {},
   "source": [
    "## Part b "
   ]
  },
  {
   "cell_type": "markdown",
   "metadata": {},
   "source": [
    "Now we have found C(t,j)= C_t,j which is a matrix (list) with each row corresponding to a specific time step where correlation function is evaluated for each site j (for sigmay_j) "
   ]
  },
  {
   "cell_type": "code",
   "execution_count": null,
   "metadata": {},
   "outputs": [],
   "source": [
    "def Fourier_transform(Point):\n",
    "   return np.FFT.FFT(Point)\n",
    "\n",
    "for t in range (1,C.shape[0]):\n",
    "   for j in range(1,C.shape[1]):\n",
    "      Fourier_transform(C[t,j])\n"
   ]
  },
  {
   "cell_type": "code",
   "execution_count": null,
   "metadata": {},
   "outputs": [],
   "source": [
    "len()"
   ]
  }
 ],
 "metadata": {
  "kernelspec": {
   "display_name": "Python 3",
   "language": "python",
   "name": "python3"
  },
  "language_info": {
   "codemirror_mode": {
    "name": "ipython",
    "version": 3
   },
   "file_extension": ".py",
   "mimetype": "text/x-python",
   "name": "python",
   "nbconvert_exporter": "python",
   "pygments_lexer": "ipython3",
   "version": "3.12.3"
  }
 },
 "nbformat": 4,
 "nbformat_minor": 2
}
