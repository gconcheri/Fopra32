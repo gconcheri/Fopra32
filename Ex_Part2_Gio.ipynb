{
 "cells": [
  {
   "cell_type": "markdown",
   "metadata": {},
   "source": [
    "# Part 2: Dynamical spin structure factor"
   ]
  },
  {
   "cell_type": "markdown",
   "metadata": {},
   "source": [
    "## Part a"
   ]
  },
  {
   "cell_type": "code",
   "execution_count": null,
   "metadata": {},
   "outputs": [],
   "source": [
    "import a_mps_Gio, b_model_Gio, c_tebd_Gio\n",
    "import numpy as np\n",
    "from scipy.linalg import svd\n",
    "import importlib \n",
    "import matplotlib.pyplot as plt\n",
    "from tqdm import tqdm\n"
   ]
  },
  {
   "cell_type": "code",
   "execution_count": 24,
   "metadata": {},
   "outputs": [
    {
     "data": {
      "text/plain": [
       "<module 'c_tebd_Gio' from '/Users/Giovanni/Desktop/Fopra32/fopra32_summerterm2024/c_tebd_Gio.py'>"
      ]
     },
     "execution_count": 24,
     "metadata": {},
     "output_type": "execute_result"
    }
   ],
   "source": [
    "importlib.reload(a_mps_Gio)\n",
    "importlib.reload(b_model_Gio)\n",
    "importlib.reload(c_tebd_Gio)"
   ]
  },
  {
   "cell_type": "code",
   "execution_count": 123,
   "metadata": {},
   "outputs": [],
   "source": [
    "L = 30\n",
    "J = 1\n",
    "g = 0.6\n",
    "\n",
    "sigmay = np.array([[0,-1j],[1j,0]])\n",
    "sigmax = np.array([[0,1],[1,0]])\n"
   ]
  },
  {
   "cell_type": "markdown",
   "metadata": {},
   "source": [
    "## Right code!"
   ]
  },
  {
   "cell_type": "code",
   "execution_count": 193,
   "metadata": {},
   "outputs": [],
   "source": [
    "def correlation_Ctj(L, J, g, X, Y, T, dt): #model - Hamiltonian, psi - class of wave function, T - last time step \n",
    "    Groundstate = c_tebd_Gio.example_TEBD_gs_finite(L,J,g)\n",
    "    E0 = Groundstate[0]\n",
    "    psi = Groundstate[1]\n",
    "    model = Groundstate[2]\n",
    "    psi1 = psi.copy() #take a copy of psi which is ground state\n",
    "    S = []\n",
    "    i = L//2 # i= L//2 index of Y\n",
    "    tensor1 = np.tensordot(psi.Bs[i], Y, [1,1]) # vL [i] vR, i [i*] -> vL vR i\n",
    "    psi.Bs[i] = tensor1.transpose([0,2,1])\n",
    "    U_bond = c_tebd_Gio.calc_U_bonds_real(model, dt)\n",
    "    result = []\n",
    "    TT = int(T//dt)\n",
    "    for r in range(TT):\n",
    "\n",
    "        exp_factor = np.exp(1j*E0*r*dt)\n",
    "\n",
    "        c_tebd_Gio.run_TEBD(psi, U_bond, N_steps=1, chi_max=100, eps=1.e-10) #found new psi by applying e^-iHdt\n",
    "        S.append(psi.entanglement_entropy())\n",
    "        tensor1 = [np.array([[1]])]\n",
    "        tensor1.append(np.tensordot(psi.Bs[L-1], psi1.Bs[L-1].conj(), [[1,2],[1,2]])) # vL [i] [vR] , vL* [i*] [vR*] -> vL vL*\n",
    "        k=1\n",
    "        #indeces of Bs go from 0 to L-1\n",
    "        #for j in range(10) goes from 0 to 9 \n",
    "        #for j in range (9,0,-1) goes from 9 to 1\n",
    "        for j in range(L-2,0,-1):\n",
    "            tensor2 = np.tensordot(psi.Bs[j],tensor1[k], [2,0]) # vL i [vR] ,[vL] vL* -> vL i vL*\n",
    "            tensor1.append(np.tensordot(tensor2, psi1.Bs[j].conj(), [[1,2],[1,2]])) # vL [i] [vL*], vL* [i*] [vR*] ->  vL vL*\n",
    "            #tensor2 = np.tensordot(psi1.Bs[j], psi.Bs[j].conj(), [1,1])  vL [i] vR , vL* [i*] vR* -> vL vR vL* vR*\n",
    "            #tensor1.append(np.tensordot(tensor2,tensor1[k],[[1,3],[0,1]])) # vL [vR] vL* [vR*], [vL] [vL*] -> vL vL*\n",
    "            k+=1\n",
    "        # print(len(tensor1)) \n",
    "        #k = L-1\n",
    "        result.append([])\n",
    "        tensorA = np.tensordot(psi.Bs[0], psi1.Bs[0].conj(),[[0,1],[0,1]]) # [vL] [i] vR , [vL*] [i*] vR* -> vR vR*\n",
    "        tensorB = np.tensordot(psi.Bs[0], X, [1,1]) # vL [i] vR , i [i*] -> vL vR i\n",
    "        tensorC = np.tensordot(tensorB,psi1.Bs[0].conj(), [[0,2],[0,1]]) # [vL] vR [i], [vL*] [i*] vR* -> vR vR*\n",
    "        result[r].append(np.tensordot(tensorC,tensor1[L-1], [[0,1],[0,1]])) # [vR] [vR*], [vL] [vL*]\n",
    "\n",
    "        for j in range(1,L):\n",
    "            tensorB = np.tensordot(psi.Bs[j], X, [1,1]) # vL [i] vR , i [i*] -> vL vR i\n",
    "            tensorbeforeC = np.tensordot(tensorA, tensorB, [0,0]) # [vR] vR*, [vL] vR i -> vR* vR i\n",
    "            tensorC = np.tensordot(tensorbeforeC,psi1.Bs[j].conj(), [[0,2],[0,1]]) # [vR*] vR [i], [vL*] [i*] vR* -> vR vR*\n",
    "            #print(tensorC.shape)\n",
    "            #print(tensor1[L-j-2].shape) #- mettili se c'è sum mismatch prima di un certo tensorproduct\n",
    "            result[r].append(np.tensordot(tensorC,tensor1[L-j-1], [[0,1],[0,1]])) # [vR] [vR*], [vL] [vL*]\n",
    "            #tensorintermediate = np.tensordot(psi1.Bs[j], psi.Bs[j].conj(),[1,1]) # vL [i] vR , vL* [i*] vR* -> vL vR vL* vR*\n",
    "            #tensorloop = np.tensordot(tensorA, tensorintermediate, [[0,1],[0,2]]) # [vR] [vR*], [vL] vR [vL*] vR* -> vR vR*\n",
    "            tensorintermediate = np.tensordot(tensorA, psi.Bs[j], [0,0]) # [vR] vR*, [vL] i vR -> vR* i vR\n",
    "            tensorloop = np.tensordot(tensorintermediate, psi1.Bs[j].conj(), [[0,1],[0,1]]) # [vR*] [i] vR, [vL*] [i*] vR* -> vR vR*\n",
    "            tensorA = tensorloop\n",
    "\n",
    "        result[r] = np.array(result[r])* exp_factor\n",
    "\n",
    "    return S, result"
   ]
  },
  {
   "cell_type": "code",
   "execution_count": 192,
   "metadata": {},
   "outputs": [
    {
     "data": {
      "text/plain": [
       "599.0"
      ]
     },
     "execution_count": 192,
     "metadata": {},
     "output_type": "execute_result"
    }
   ],
   "source": [
    "30//0.05"
   ]
  },
  {
   "cell_type": "code",
   "execution_count": 189,
   "metadata": {},
   "outputs": [
    {
     "name": "stdout",
     "output_type": "stream",
     "text": [
      "finite TEBD, (imaginary time evolution)\n",
      "L=20, J=1.0, g=0.60\n"
     ]
    },
    {
     "name": "stdout",
     "output_type": "stream",
     "text": [
      "dt = 0.10000: E = -21.0276894606948\n",
      "dt = 0.01000: E = -21.0336152319901\n"
     ]
    },
    {
     "ename": "KeyboardInterrupt",
     "evalue": "",
     "output_type": "error",
     "traceback": [
      "\u001b[0;31m---------------------------------------------------------------------------\u001b[0m",
      "\u001b[0;31mKeyboardInterrupt\u001b[0m                         Traceback (most recent call last)",
      "Cell \u001b[0;32mIn[189], line 1\u001b[0m\n\u001b[0;32m----> 1\u001b[0m C \u001b[38;5;241m=\u001b[39m \u001b[43mcorrelation_Ctj\u001b[49m\u001b[43m(\u001b[49m\u001b[38;5;241;43m20\u001b[39;49m\u001b[43m,\u001b[49m\u001b[43m \u001b[49m\u001b[43mJ\u001b[49m\u001b[43m,\u001b[49m\u001b[43mg\u001b[49m\u001b[43m,\u001b[49m\u001b[43m \u001b[49m\u001b[43msigmay\u001b[49m\u001b[43m,\u001b[49m\u001b[43msigmay\u001b[49m\u001b[43m,\u001b[49m\u001b[38;5;241;43m50\u001b[39;49m\u001b[43m,\u001b[49m\u001b[43m \u001b[49m\u001b[38;5;241;43m0.1\u001b[39;49m\u001b[43m)\u001b[49m\n",
      "Cell \u001b[0;32mIn[169], line 2\u001b[0m, in \u001b[0;36mcorrelation_Ctj\u001b[0;34m(L, J, g, X, Y, T, dt)\u001b[0m\n\u001b[1;32m      1\u001b[0m \u001b[38;5;28;01mdef\u001b[39;00m \u001b[38;5;21mcorrelation_Ctj\u001b[39m(L, J, g, X, Y, T, dt): \u001b[38;5;66;03m#model - Hamiltonian, psi - class of wave function, T - last time step \u001b[39;00m\n\u001b[0;32m----> 2\u001b[0m     Groundstate \u001b[38;5;241m=\u001b[39m \u001b[43mc_tebd_Gio\u001b[49m\u001b[38;5;241;43m.\u001b[39;49m\u001b[43mexample_TEBD_gs_finite\u001b[49m\u001b[43m(\u001b[49m\u001b[43mL\u001b[49m\u001b[43m,\u001b[49m\u001b[43mJ\u001b[49m\u001b[43m,\u001b[49m\u001b[43mg\u001b[49m\u001b[43m)\u001b[49m\n\u001b[1;32m      3\u001b[0m     E0 \u001b[38;5;241m=\u001b[39m Groundstate[\u001b[38;5;241m0\u001b[39m]\n\u001b[1;32m      4\u001b[0m     psi \u001b[38;5;241m=\u001b[39m Groundstate[\u001b[38;5;241m1\u001b[39m]\n",
      "File \u001b[0;32m~/Desktop/Fopra32/fopra32_summerterm2024/c_tebd_Gio.py:79\u001b[0m, in \u001b[0;36mexample_TEBD_gs_finite\u001b[0;34m(L, J, g)\u001b[0m\n\u001b[1;32m     77\u001b[0m \u001b[38;5;28;01mfor\u001b[39;00m dt \u001b[38;5;129;01min\u001b[39;00m [\u001b[38;5;241m0.1\u001b[39m, \u001b[38;5;241m0.01\u001b[39m, \u001b[38;5;241m0.001\u001b[39m, \u001b[38;5;241m1.e-4\u001b[39m, \u001b[38;5;241m1.e-5\u001b[39m]:\n\u001b[1;32m     78\u001b[0m     U_bonds \u001b[38;5;241m=\u001b[39m calc_U_bonds(model, dt)\n\u001b[0;32m---> 79\u001b[0m     \u001b[43mrun_TEBD\u001b[49m\u001b[43m(\u001b[49m\u001b[43mpsi\u001b[49m\u001b[43m,\u001b[49m\u001b[43m \u001b[49m\u001b[43mU_bonds\u001b[49m\u001b[43m,\u001b[49m\u001b[43m \u001b[49m\u001b[43mN_steps\u001b[49m\u001b[38;5;241;43m=\u001b[39;49m\u001b[38;5;241;43m500\u001b[39;49m\u001b[43m,\u001b[49m\u001b[43m \u001b[49m\u001b[43mchi_max\u001b[49m\u001b[38;5;241;43m=\u001b[39;49m\u001b[38;5;241;43m100\u001b[39;49m\u001b[43m,\u001b[49m\u001b[43m \u001b[49m\u001b[43meps\u001b[49m\u001b[38;5;241;43m=\u001b[39;49m\u001b[38;5;241;43m1.e-10\u001b[39;49m\u001b[43m)\u001b[49m\n\u001b[1;32m     80\u001b[0m     E \u001b[38;5;241m=\u001b[39m model\u001b[38;5;241m.\u001b[39menergy(psi)\n\u001b[1;32m     81\u001b[0m     \u001b[38;5;28mprint\u001b[39m(\u001b[38;5;124m\"\u001b[39m\u001b[38;5;124mdt = \u001b[39m\u001b[38;5;132;01m{dt:.5f}\u001b[39;00m\u001b[38;5;124m: E = \u001b[39m\u001b[38;5;132;01m{E:.13f}\u001b[39;00m\u001b[38;5;124m\"\u001b[39m\u001b[38;5;241m.\u001b[39mformat(dt\u001b[38;5;241m=\u001b[39mdt, E\u001b[38;5;241m=\u001b[39mE))\n",
      "File \u001b[0;32m~/Desktop/Fopra32/fopra32_summerterm2024/c_tebd_Gio.py:48\u001b[0m, in \u001b[0;36mrun_TEBD\u001b[0;34m(psi, U_bonds, N_steps, chi_max, eps)\u001b[0m\n\u001b[1;32m     46\u001b[0m \u001b[38;5;28;01mfor\u001b[39;00m k \u001b[38;5;129;01min\u001b[39;00m [\u001b[38;5;241m0\u001b[39m, \u001b[38;5;241m1\u001b[39m]:  \u001b[38;5;66;03m# even, odd\u001b[39;00m\n\u001b[1;32m     47\u001b[0m     \u001b[38;5;28;01mfor\u001b[39;00m i_bond \u001b[38;5;129;01min\u001b[39;00m \u001b[38;5;28mrange\u001b[39m(k, Nbonds, \u001b[38;5;241m2\u001b[39m):\n\u001b[0;32m---> 48\u001b[0m         \u001b[43mupdate_bond\u001b[49m\u001b[43m(\u001b[49m\u001b[43mpsi\u001b[49m\u001b[43m,\u001b[49m\u001b[43m \u001b[49m\u001b[43mi_bond\u001b[49m\u001b[43m,\u001b[49m\u001b[43m \u001b[49m\u001b[43mU_bonds\u001b[49m\u001b[43m[\u001b[49m\u001b[43mi_bond\u001b[49m\u001b[43m]\u001b[49m\u001b[43m,\u001b[49m\u001b[43m \u001b[49m\u001b[43mchi_max\u001b[49m\u001b[43m,\u001b[49m\u001b[43m \u001b[49m\u001b[43meps\u001b[49m\u001b[43m)\u001b[49m\n",
      "File \u001b[0;32m~/Desktop/Fopra32/fopra32_summerterm2024/c_tebd_Gio.py:58\u001b[0m, in \u001b[0;36mupdate_bond\u001b[0;34m(psi, i, U_bond, chi_max, eps)\u001b[0m\n\u001b[1;32m     56\u001b[0m theta \u001b[38;5;241m=\u001b[39m psi\u001b[38;5;241m.\u001b[39mget_theta2(i)  \u001b[38;5;66;03m# vL i j vR\u001b[39;00m\n\u001b[1;32m     57\u001b[0m \u001b[38;5;66;03m# apply U\u001b[39;00m\n\u001b[0;32m---> 58\u001b[0m Utheta \u001b[38;5;241m=\u001b[39m \u001b[43mnp\u001b[49m\u001b[38;5;241;43m.\u001b[39;49m\u001b[43mtensordot\u001b[49m\u001b[43m(\u001b[49m\u001b[43mU_bond\u001b[49m\u001b[43m,\u001b[49m\u001b[43m \u001b[49m\u001b[43mtheta\u001b[49m\u001b[43m,\u001b[49m\u001b[43m \u001b[49m\u001b[43maxes\u001b[49m\u001b[38;5;241;43m=\u001b[39;49m\u001b[43m(\u001b[49m\u001b[43m[\u001b[49m\u001b[38;5;241;43m2\u001b[39;49m\u001b[43m,\u001b[49m\u001b[43m \u001b[49m\u001b[38;5;241;43m3\u001b[39;49m\u001b[43m]\u001b[49m\u001b[43m,\u001b[49m\u001b[43m \u001b[49m\u001b[43m[\u001b[49m\u001b[38;5;241;43m1\u001b[39;49m\u001b[43m,\u001b[49m\u001b[43m \u001b[49m\u001b[38;5;241;43m2\u001b[39;49m\u001b[43m]\u001b[49m\u001b[43m)\u001b[49m\u001b[43m)\u001b[49m  \u001b[38;5;66;03m# i j [i*] [j*], vL [i] [j] vR\u001b[39;00m\n\u001b[1;32m     59\u001b[0m Utheta \u001b[38;5;241m=\u001b[39m np\u001b[38;5;241m.\u001b[39mtranspose(Utheta, [\u001b[38;5;241m2\u001b[39m, \u001b[38;5;241m0\u001b[39m, \u001b[38;5;241m1\u001b[39m, \u001b[38;5;241m3\u001b[39m])  \u001b[38;5;66;03m# vL i j vR\u001b[39;00m\n\u001b[1;32m     60\u001b[0m \u001b[38;5;66;03m# split and truncate\u001b[39;00m\n",
      "File \u001b[0;32m~/micromamba/envs/comp_phys/lib/python3.12/site-packages/numpy/core/numeric.py:928\u001b[0m, in \u001b[0;36m_tensordot_dispatcher\u001b[0;34m(a, b, axes)\u001b[0m\n\u001b[1;32m    924\u001b[0m     b \u001b[38;5;241m=\u001b[39m asarray(b)\n\u001b[1;32m    925\u001b[0m     \u001b[38;5;28;01mreturn\u001b[39;00m multiply(a\u001b[38;5;241m.\u001b[39mravel()[:, newaxis], b\u001b[38;5;241m.\u001b[39mravel()[newaxis, :], out)\n\u001b[0;32m--> 928\u001b[0m \u001b[38;5;28;01mdef\u001b[39;00m \u001b[38;5;21m_tensordot_dispatcher\u001b[39m(a, b, axes\u001b[38;5;241m=\u001b[39m\u001b[38;5;28;01mNone\u001b[39;00m):\n\u001b[1;32m    929\u001b[0m     \u001b[38;5;28;01mreturn\u001b[39;00m (a, b)\n\u001b[1;32m    932\u001b[0m \u001b[38;5;129m@array_function_dispatch\u001b[39m(_tensordot_dispatcher)\n\u001b[1;32m    933\u001b[0m \u001b[38;5;28;01mdef\u001b[39;00m \u001b[38;5;21mtensordot\u001b[39m(a, b, axes\u001b[38;5;241m=\u001b[39m\u001b[38;5;241m2\u001b[39m):\n",
      "\u001b[0;31mKeyboardInterrupt\u001b[0m: "
     ]
    }
   ],
   "source": [
    "C = correlation_Ctj(20, J,g, sigmay,sigmay,50, 0.1)"
   ]
  },
  {
   "cell_type": "markdown",
   "metadata": {},
   "source": [
    "Plot of Entanglement Entropy"
   ]
  },
  {
   "cell_type": "code",
   "execution_count": null,
   "metadata": {},
   "outputs": [
    {
     "data": {
      "text/plain": [
       "<matplotlib.colorbar.Colorbar at 0x14456b650>"
      ]
     },
     "execution_count": 174,
     "metadata": {},
     "output_type": "execute_result"
    },
    {
     "data": {
      "image/png": "[encoded data removed]",
      "text/plain": [
       "<Figure size 640x480 with 2 Axes>"
      ]
     },
     "metadata": {},
     "output_type": "display_data"
    }
   ],
   "source": [
    "#plt.imshow\n",
    "#plt.pcolormesh\n",
    "#plt.plot()\n",
    "#T = np.arange(1,201,1)\n",
    "#print(T)\n",
    "#Hey = [T,S]\n",
    "plt.pcolormesh(C[0], cmap = 'viridis')\n",
    "plt.colorbar()"
   ]
  },
  {
   "cell_type": "markdown",
   "metadata": {},
   "source": [
    "Plot of Correlation Function"
   ]
  },
  {
   "cell_type": "code",
   "execution_count": 175,
   "metadata": {},
   "outputs": [
    {
     "data": {
      "text/plain": [
       "<matplotlib.colorbar.Colorbar at 0x1446fb290>"
      ]
     },
     "execution_count": 175,
     "metadata": {},
     "output_type": "execute_result"
    },
    {
     "data": {
      "image/png": "[encoded data removed]",
      "text/plain": [
       "<Figure size 640x480 with 2 Axes>"
      ]
     },
     "metadata": {},
     "output_type": "display_data"
    }
   ],
   "source": [
    "plt.pcolormesh(np.imag(C[1]), cmap = 'viridis')\n",
    "plt.colorbar()"
   ]
  },
  {
   "cell_type": "markdown",
   "metadata": {},
   "source": [
    "## Part b "
   ]
  },
  {
   "cell_type": "markdown",
   "metadata": {},
   "source": [
    "- Write another function that performs a Fourier transformation in space and time to obtain the dynamic structure factor $S(k, \\omega)$:\n",
    "\n",
    "$$\n",
    "S(k, \\omega) = \\sum^{L−1}_{j=0} \\sum^N_{t_n = 0}e^{i\\omega \\delta t \\cdot t_n − i k \\cdot j} C(\\Delta t \\cdot t_n, j) · G(tn)\n",
    "$$\n",
    "\n",
    "\n",
    "- Remember to multiply the signal with a Gaussian window function G(tn) in order to avoid Gibbs oscillations from the Fourier transform of the finite time data (cf. equation (7))."
   ]
  },
  {
   "cell_type": "markdown",
   "metadata": {},
   "source": [
    "Now we have found C(t,j)= C_t,j which is a matrix (list) with each row corresponding to a specific time step where correlation function is evaluated for each site j (for sigmay_j) "
   ]
  },
  {
   "cell_type": "code",
   "execution_count": 157,
   "metadata": {},
   "outputs": [],
   "source": [
    "def get_spectral_function(corrs, L, dt):\n",
    "        \n",
    "    # Rearrange corrs such that position 0 corresponds to the perturbed site\n",
    "    # (distance 0 to perturbation)\n",
    "    print(corrs.shape)\n",
    "    xi = L//2\n",
    "    c_temp = np.zeros(corrs.shape, dtype=complex)\n",
    "    c_temp[:, :L-xi] = corrs[:, xi:]\n",
    "    c_temp[:, L-xi:] = corrs[:, :xi]\n",
    "    corrs = c_temp\n",
    "    \n",
    "    print('Compute Fourier transform')\n",
    "    # Fourier transform in space\n",
    "    corrs_tk = np.zeros((corrs.shape[0], corrs.shape[1]+1), dtype=complex)\n",
    "    for i in np.arange(corrs.shape[0]):\n",
    "        momenta, Ck = fourier_space(corrs[i,:])\n",
    "        corrs_tk[i, :] = Ck\n",
    "        \n",
    "    # Fourier transform in time\n",
    "    Swk = np.zeros(corrs_tk.shape, dtype=complex)\n",
    "    for k in np.arange(corrs_tk.shape[1]):\n",
    "        freqs, Sw = fourier_time(corrs_tk[:, k], dt)\n",
    "        Swk[:, k] = Sw\n",
    "    print('finished')\n",
    "    \n",
    "    return np.array(Swk), momenta, freqs\n",
    "\n",
    "\n",
    "def fourier_time(t_series, dt, sigma = 0.4):\n",
    "    \"\"\" Calculates the FFT of a time series, applying a Gaussian window function. \"\"\"\n",
    "    \n",
    "    # Gaussian window function\n",
    "    n = len(t_series)\n",
    "    gauss = [np.exp(-1/2.*(i/(sigma * n))**2) for i in np.arange(n)]\n",
    "    input_series = gauss * t_series\n",
    "    \n",
    "    # Fourier transform\n",
    "    ft = np.fft.fft(input_series)\n",
    "    freqs = np.fft.fftfreq(n, dt) * 2 * np.pi\n",
    "    \n",
    "    # order frequencies in increasing order\n",
    "    end = np.argmin(freqs)\n",
    "    freqs = np.append(freqs[end:], freqs[:end])\n",
    "    # shift results accordingly\n",
    "    ftShifted = np.append(ft[end:], ft[:end])\n",
    "    \n",
    "    # Take into account the additional minus sign in the time FT\n",
    "    if len(ftShifted)%2 == 0:\n",
    "        ftShifted = np.append(ftShifted, ftShifted[0])\n",
    "        ftShifted = ftShifted[::-1]\n",
    "        ftShifted = ftShifted[:-1]\n",
    "    else:\n",
    "        ftShifted = ftShifted[::-1]\n",
    "        \n",
    "    return freqs, ftShifted\n",
    "\n",
    "\n",
    "def fourier_space(x_series):\n",
    "    \"\"\" Calculates the FFT of a spatial series of values. \"\"\"\n",
    "    import numpy as np\n",
    "    ft = np.fft.fft(x_series)\n",
    "    n = len(x_series)\n",
    "    momenta = 2*np.pi * np.fft.fftfreq(n, 1)\n",
    "    \n",
    "    # order momenta in increasing order\n",
    "    momenta = np.fft.fftshift(momenta)\n",
    "    \n",
    "    # shift results accordingly\n",
    "    Ck = np.fft.fftshift(ft)\n",
    "    \n",
    "    # extend the results to the whole Brillouin zone (right border included)\n",
    "    momenta = np.append(momenta, -momenta[0])\n",
    "    Ck = np.append(Ck, Ck[0])\n",
    "    \n",
    "    return momenta, Ck"
   ]
  },
  {
   "cell_type": "code",
   "execution_count": 178,
   "metadata": {},
   "outputs": [
    {
     "name": "stdout",
     "output_type": "stream",
     "text": [
      "(50, 20)\n"
     ]
    }
   ],
   "source": [
    "test_corr = np.array(C[1])\n",
    "print(test_corr.shape)"
   ]
  },
  {
   "cell_type": "code",
   "execution_count": 180,
   "metadata": {},
   "outputs": [
    {
     "name": "stdout",
     "output_type": "stream",
     "text": [
      "30\n",
      "(50, 20)\n",
      "Compute Fourier transform\n",
      "finished\n"
     ]
    }
   ],
   "source": [
    "test_corr = C[1]\n",
    "print(L)\n",
    "Swk, momenta, freqs = get_spectral_function(np.array(test_corr), 20, 0.1)"
   ]
  },
  {
   "cell_type": "markdown",
   "metadata": {},
   "source": [
    "# Part c"
   ]
  },
  {
   "cell_type": "code",
   "execution_count": 182,
   "metadata": {},
   "outputs": [
    {
     "data": {
      "text/plain": [
       "<matplotlib.collections.QuadMesh at 0x1447bd370>"
      ]
     },
     "execution_count": 182,
     "metadata": {},
     "output_type": "execute_result"
    },
    {
     "data": {
      "image/png": "[encoded data removed]",
      "text/plain": [
       "<Figure size 640x480 with 1 Axes>"
      ]
     },
     "metadata": {},
     "output_type": "display_data"
    }
   ],
   "source": [
    "plt.figure()\n",
    "plt.pcolormesh(momenta, freqs, np.real(Swk))"
   ]
  },
  {
   "cell_type": "code",
   "execution_count": 196,
   "metadata": {},
   "outputs": [
    {
     "name": "stdout",
     "output_type": "stream",
     "text": [
      "finite TEBD, (imaginary time evolution)\n",
      "L=20, J=1.0, g=0.20\n"
     ]
    },
    {
     "name": "stdout",
     "output_type": "stream",
     "text": [
      "dt = 0.10000: E = -19.2205282640590\n",
      "dt = 0.01000: E = -19.2205986421454\n",
      "dt = 0.00100: E = -19.2206058029562\n",
      "dt = 0.00010: E = -19.2206065208652\n",
      "dt = 0.00001: E = -19.2206065926539\n",
      "final bond dimensions:  [2, 4, 8, 10, 10, 10, 10, 10, 10, 10, 10, 10, 10, 10, 10, 10, 8, 4, 2]\n"
     ]
    }
   ],
   "source": [
    "systemsize30 = correlation_Ctj(20, J , 0.2, sigmay,sigmay, 20, 0.1)"
   ]
  },
  {
   "cell_type": "code",
   "execution_count": 197,
   "metadata": {},
   "outputs": [
    {
     "name": "stdout",
     "output_type": "stream",
     "text": [
      "[array([0.67322409, 0.69240765, 0.69321141, 0.69321897, 0.69324296,\n",
      "       0.69322027, 0.69324301, 0.69322028, 0.69324301, 0.69325619,\n",
      "       0.69325506, 0.69322163, 0.69324301, 0.69322027, 0.69324296,\n",
      "       0.69321897, 0.69321141, 0.69240765, 0.67322409]), array([0.67323146, 0.69238377, 0.69322274, 0.69320958, 0.69325373,\n",
      "       0.69321091, 0.69325378, 0.69321091, 0.69325692, 0.69333138,\n",
      "       0.69333008, 0.69322469, 0.69325378, 0.69321091, 0.69325373,\n",
      "       0.69320958, 0.69322274, 0.69238377, 0.67323146]), array([0.67323728, 0.69236483, 0.69323098, 0.69320413, 0.6932615 ,\n",
      "       0.69320547, 0.69326155, 0.69320549, 0.69328332, 0.69346666,\n",
      "       0.69346511, 0.69326314, 0.69326156, 0.69320547, 0.6932615 ,\n",
      "       0.69320413, 0.69323098, 0.69236483, 0.67323728]), array([0.67324073, 0.69235238, 0.69323491, 0.69320357, 0.69326507,\n",
      "       0.69320493, 0.69326512, 0.69320501, 0.69334221, 0.69367824,\n",
      "       0.69367648, 0.69336471, 0.69326521, 0.69320493, 0.69326507,\n",
      "       0.69320357, 0.69323491, 0.69235238, 0.67324073]), array([0.67324113, 0.69234701, 0.69323396, 0.693208  , 0.69326391,\n",
      "       0.69320936, 0.69326396, 0.6932097 , 0.69346009, 0.69398799,\n",
      "       0.69398607, 0.6935594 , 0.69326429, 0.69320936, 0.69326391,\n",
      "       0.693208  , 0.69323396, 0.69234701, 0.67324113]), array([0.67323803, 0.6923484 , 0.69322828, 0.69321662, 0.69325819,\n",
      "       0.69321798, 0.69325823, 0.693219  , 0.69366712, 0.69442195,\n",
      "       0.6944198 , 0.69387889, 0.69325918, 0.69321798, 0.69325819,\n",
      "       0.69321662, 0.69322828, 0.6923484 , 0.67323803]), array([0.67323125, 0.69235538, 0.69321872, 0.69322795, 0.69324876,\n",
      "       0.6932293 , 0.69324881, 0.69323188, 0.6939954 , 0.69500935,\n",
      "       0.69500642, 0.69435596, 0.69325115, 0.69322931, 0.69324876,\n",
      "       0.69322795, 0.69321872, 0.69235538, 0.67323125]), array([0.67322089, 0.69236635, 0.69320672, 0.69324011, 0.69323709,\n",
      "       0.69324145, 0.69323714, 0.69324718, 0.69447815, 0.69578197,\n",
      "       0.69577685, 0.69502359, 0.69324228, 0.69324146, 0.69323709,\n",
      "       0.69324011, 0.69320672, 0.69236635, 0.67322089]), array([0.67320731, 0.69237945, 0.69319411, 0.69325117, 0.69322499,\n",
      "       0.69325249, 0.69322505, 0.69326405, 0.6951489 , 0.69677358,\n",
      "       0.69676361, 0.69591405, 0.69323538, 0.69325253, 0.69322499,\n",
      "       0.69325117, 0.69319411, 0.69237945, 0.67320731]), array([0.67319119, 0.69239294, 0.69318287, 0.69325943, 0.69321443,\n",
      "       0.69326073, 0.69321452, 0.69328231, 0.6960408 , 0.69801944,\n",
      "       0.69800044, 0.69705806, 0.69323383, 0.69326081, 0.69321443,\n",
      "       0.69325943, 0.69318287, 0.69239294, 0.67319119]), array([0.67317341, 0.69240537, 0.69317481, 0.69326365, 0.6932072 ,\n",
      "       0.69326492, 0.69320732, 0.69330275, 0.69718585, 0.69955543,\n",
      "       0.69952166, 0.69848425, 0.69324125, 0.69326508, 0.6932072 ,\n",
      "       0.69326365, 0.69317481, 0.69240537, 0.67317341]), array([0.67315505, 0.69241578, 0.69317125, 0.69326318, 0.69320456,\n",
      "       0.69326444, 0.69320477, 0.69332741, 0.69861419, 0.70141706,\n",
      "       0.70136137, 0.70021866, 0.69326114, 0.69326474, 0.69320456,\n",
      "       0.69326318, 0.69317125, 0.69241578, 0.67315505]), array([0.67313734, 0.69242375, 0.69317271, 0.69325811, 0.69320701,\n",
      "       0.69325936, 0.69320737, 0.69335963, 0.70035341, 0.70363813,\n",
      "       0.70355235, 0.70228449, 0.69329664, 0.69325992, 0.69320701,\n",
      "       0.69325811, 0.69317271, 0.69242375, 0.67313734]), array([0.67312153, 0.69242945, 0.69317881, 0.69324921, 0.6932141 ,\n",
      "       0.69325044, 0.69321472, 0.69340406, 0.70242788, 0.70624937,\n",
      "       0.70612481, 0.70470193, 0.69335061, 0.69325143, 0.6932141 ,\n",
      "       0.69324921, 0.69317881, 0.69242945, 0.67312153]), array([0.67310884, 0.69243355, 0.69318838, 0.69323782, 0.69322458,\n",
      "       0.69323905, 0.69322564, 0.69346641, 0.70485811, 0.70927727,\n",
      "       0.70910518, 0.70748808, 0.69342592, 0.69324073, 0.69322458,\n",
      "       0.69323782, 0.69318838, 0.69243355, 0.67310884]), array([0.67310039, 0.69243704, 0.69319969, 0.69322571, 0.69323668,\n",
      "       0.69322695, 0.69323843, 0.69355321, 0.70766038, 0.71274331,\n",
      "       0.71251518, 0.71065689, 0.69352581, 0.6932297 , 0.69323668,\n",
      "       0.69322571, 0.69319969, 0.69243704, 0.67310039]), array([0.67309708, 0.69244107, 0.69321087, 0.69321481, 0.69324842,\n",
      "       0.69321608, 0.69325127, 0.69367153, 0.71084638, 0.71666382,\n",
      "       0.71637139, 0.71421902, 0.69365423, 0.69322047, 0.69324844,\n",
      "       0.69321481, 0.69321087, 0.69244107, 0.67309708]), array([0.67309958, 0.69244663, 0.69322011, 0.69320692, 0.69325797,\n",
      "       0.69320822, 0.69326247, 0.6938287 , 0.71442327, 0.72105046,\n",
      "       0.72068544, 0.71818162, 0.69381609, 0.69321504, 0.693258  ,\n",
      "       0.69320692, 0.69322011, 0.69244663, 0.67309958]), array([0.67310822, 0.69245435, 0.69322598, 0.69320339, 0.69326384,\n",
      "       0.69320476, 0.6932708 , 0.6940322 , 0.71839385, 0.72591137,\n",
      "       0.72546484, 0.72254795, 0.69401748, 0.69321506, 0.69326389,\n",
      "       0.69320339, 0.69322598, 0.69245435, 0.67310822]), array([0.67312303, 0.69246425, 0.69322763, 0.69320486, 0.69326515,\n",
      "       0.6932063 , 0.6932757 , 0.69428959, 0.72275704, 0.73125267,\n",
      "       0.73071429, 0.72731698, 0.69426578, 0.69322143, 0.69326523,\n",
      "       0.69320486, 0.69322763, 0.69246425, 0.67312303]), array([0.67314367, 0.69247564, 0.69322485, 0.69321104, 0.69326169,\n",
      "       0.69321259, 0.69327738, 0.6946086 , 0.72750844, 0.73707997,\n",
      "       0.73643722, 0.73248295, 0.69456965, 0.69323426, 0.69326181,\n",
      "       0.69321104, 0.69322485, 0.69247564, 0.67314367]), array([0.67316947, 0.69248727, 0.69321815, 0.69322085, 0.69325398,\n",
      "       0.69322253, 0.69327692, 0.69499721, 0.732641  , 0.74339966,\n",
      "       0.74263724, 0.73803505, 0.69493891, 0.69325298, 0.69325418,\n",
      "       0.69322085, 0.69321815, 0.69248727, 0.67316947]), array([0.67319947, 0.6924976 , 0.69320865, 0.69323262, 0.69324321,\n",
      "       0.69323447, 0.69327616, 0.69546385, 0.73814553, 0.75021942,\n",
      "       0.74931907, 0.74395736, 0.69538439, 0.6932766 , 0.69324353,\n",
      "       0.69323262, 0.69320865, 0.6924976 , 0.67319947]), array([0.67323245, 0.69250504, 0.69319797, 0.69324444, 0.69323105,\n",
      "       0.69324651, 0.69327759, 0.69601752, 0.74401099, 0.757548  ,\n",
      "       0.75648874, 0.75022911, 0.69591762, 0.69330404, 0.69323154,\n",
      "       0.69324444, 0.69319797, 0.69250504, 0.67323245]), array([0.67326699, 0.69250825, 0.69318796, 0.69325447, 0.69321945,\n",
      "       0.69325682, 0.69328403, 0.69666799, 0.75022453, 0.76539402,\n",
      "       0.76415299, 0.75682535, 0.69655056, 0.69333454, 0.69322018,\n",
      "       0.69325448, 0.69318796, 0.69250825, 0.67326699]), array([0.67330154, 0.69250634, 0.69318045, 0.69326118, 0.69321033,\n",
      "       0.6932639 , 0.69329833, 0.69742585, 0.75677111, 0.77376418,\n",
      "       0.77231781, 0.763718  , 0.69729535, 0.69336782, 0.69321142,\n",
      "       0.69326119, 0.69318045, 0.69250634, 0.67330154]), array([0.6733345 , 0.69249901, 0.69317692, 0.69326357, 0.69320527,\n",
      "       0.69326678, 0.69332298, 0.69830252, 0.763633  , 0.78266101,\n",
      "       0.78098648, 0.77087718, 0.69816405, 0.69340441, 0.69320685,\n",
      "       0.69326358, 0.69317692, 0.69249901, 0.6733345 ]), array([0.67336426, 0.6924866 , 0.6931782 , 0.69326128, 0.69320518,\n",
      "       0.69326515, 0.69335987, 0.69931014, 0.77078905, 0.79208087,\n",
      "       0.79015743, 0.77827265, 0.6991685 , 0.6934457 , 0.69320745,\n",
      "       0.6932613 , 0.6931782 , 0.6924866 , 0.67336426]), array([0.6733893 , 0.69247008, 0.69318421, 0.69325466, 0.69321009,\n",
      "       0.69325944, 0.69341029, 0.70046144, 0.77821409, 0.80201238,\n",
      "       0.79982247, 0.7858751 , 0.70032026, 0.693494  , 0.69321326,\n",
      "       0.6932547 , 0.69318421, 0.69247008, 0.6733893 ]), array([0.67340825, 0.69245095, 0.69319403, 0.69324472, 0.69321911,\n",
      "       0.69325074, 0.69347499, 0.70176944, 0.78587863, 0.8124359 ,\n",
      "       0.80996575, 0.79365718, 0.70163064, 0.69355243, 0.69322347,\n",
      "       0.69324477, 0.69319403, 0.69245095, 0.67340825]), array([0.67341993, 0.69243108, 0.69320605, 0.69323298, 0.69323068,\n",
      "       0.6932407 , 0.69355448, 0.7032472 , 0.793749  , 0.82332421,\n",
      "       0.82056371, 0.80159394, 0.70311072, 0.69362476, 0.69323661,\n",
      "       0.69323306, 0.69320605, 0.69243108, 0.67341993]), array([0.67342345, 0.69241244, 0.69321837, 0.69322128, 0.69324289,\n",
      "       0.6932313 , 0.69364928, 0.70490752, 0.80178809, 0.83464413,\n",
      "       0.8315862 , 0.80966262, 0.70477149, 0.69371512, 0.69325087,\n",
      "       0.6932214 , 0.69321837, 0.69241244, 0.67342345]), array([0.67341822, 0.69239691, 0.69322904, 0.69321153, 0.69325379,\n",
      "       0.6932246 , 0.69376022, 0.70676264, 0.80995666, 0.84635923,\n",
      "       0.84299861, 0.81784191, 0.70662392, 0.69382774, 0.69326444,\n",
      "       0.6932117 , 0.69322904, 0.69239691, 0.67341822]), array([0.67340402, 0.69238594, 0.69323641, 0.69320538, 0.69326169,\n",
      "       0.69322243, 0.69388875, 0.70882409, 0.81821507, 0.85843276,\n",
      "       0.85476463, 0.82611062, 0.70867897, 0.69396674, 0.69327583,\n",
      "       0.69320561, 0.69323641, 0.69238594, 0.67340402]), array([0.67338103, 0.69238037, 0.69323931, 0.69320391, 0.69326541,\n",
      "       0.69322603, 0.69403711, 0.71110252, 0.82652528, 0.87083055,\n",
      "       0.86684922, 0.8344462 , 0.71094761, 0.69413596, 0.69328406,\n",
      "       0.69320424, 0.69323932, 0.69238037, 0.67338103]), array([0.67334984, 0.6923803 , 0.69323725, 0.69320741, 0.69326438,\n",
      "       0.69323584, 0.69420848, 0.71360764, 0.83485273, 0.88352329,\n",
      "       0.87922121, 0.84282331, 0.71344061, 0.69433891, 0.69328888,\n",
      "       0.69320786, 0.69323725, 0.6923803 , 0.67334984]), array([0.67331146, 0.69238507, 0.69323043, 0.69321526, 0.6932588 ,\n",
      "       0.69325149, 0.69440695, 0.71634826, 0.84316778, 0.89648768,\n",
      "       0.89185511, 0.85121291, 0.71616839, 0.69457887, 0.69329082,\n",
      "       0.69321587, 0.69323043, 0.69238507, 0.67331146]), array([0.67326731, 0.69239348, 0.69321975, 0.69322611, 0.69324955,\n",
      "       0.69327196, 0.69463751, 0.71933227, 0.8514466 , 0.90970639,\n",
      "       0.90473175, 0.85958203, 0.71914073, 0.69485898, 0.69329116,\n",
      "       0.69322693, 0.69321976, 0.69239348, 0.67326731]), array([0.67321917, 0.692404  , 0.69320672, 0.69323816, 0.69323809,\n",
      "       0.69329589, 0.69490576, 0.72256675, 0.85967109, 0.92316675,\n",
      "       0.91783768, 0.86789456, 0.72236644, 0.69518253, 0.69329183,\n",
      "       0.69323926, 0.69320673, 0.692404  , 0.67321917]), array([0.67316911, 0.69241505, 0.69319318, 0.69324951, 0.69322629,\n",
      "       0.69332189, 0.69521777, 0.72605797, 0.86782806, 0.93685846,\n",
      "       0.93116345, 0.87611294, 0.72585308, 0.69555314, 0.69329518,\n",
      "       0.69325097, 0.69319319, 0.69241505, 0.67316911]), array([0.67311941, 0.6924252 , 0.69318111, 0.6932584 , 0.69321613,\n",
      "       0.69334883, 0.69557978, 0.72981135, 0.87590758, 0.95077086,\n",
      "       0.944701  , 0.8842006 , 0.72960668, 0.69597499, 0.69330365,\n",
      "       0.69326032, 0.69318113, 0.6924252 , 0.67311941]), array([0.67307244, 0.69243332, 0.69317231, 0.69326347, 0.69320942,\n",
      "       0.69337609, 0.69599797, 0.73383143, 0.88390109, 0.96489011,\n",
      "       0.95844087, 0.89212491, 0.73363162, 0.69645301, 0.69331945,\n",
      "       0.693266  , 0.69317235, 0.69243332, 0.67307244]), array([0.67303054, 0.69243877, 0.69316807, 0.69326398, 0.69320747,\n",
      "       0.69340376, 0.69647834, 0.73812169, 0.89179932, 0.97919712,\n",
      "       0.97236956, 0.89986001, 0.73793047, 0.69699293, 0.69334428,\n",
      "       0.69326729, 0.69316811, 0.69243877, 0.67303054]), array([0.67299587, 0.69244137, 0.69316888, 0.69325983, 0.69321078,\n",
      "       0.69343269, 0.69702661, 0.74268444, 0.89959072, 0.99366632,\n",
      "       0.98646764, 0.90738922, 0.74250405, 0.69760128, 0.6933791 ,\n",
      "       0.69326416, 0.69316894, 0.69244137, 0.67299587]), array([0.67297029, 0.69244139, 0.69317438, 0.69325166, 0.69321893,\n",
      "       0.69346453, 0.69764827, 0.74752062, 0.90726063, 1.00826582,\n",
      "       1.00070898, 0.91470636, 0.74735151, 0.69828532, 0.69342422,\n",
      "       0.69325729, 0.69317446, 0.69244139, 0.67297029]), array([0.67295525, 0.69243952, 0.69318341, 0.69324067, 0.69323072,\n",
      "       0.69350157, 0.69834874, 0.75262966, 0.91479147, 1.02295858,\n",
      "       1.01506115, 0.92181588, 0.75247043, 0.69905284, 0.6934794 ,\n",
      "       0.69324799, 0.69318352, 0.69243952, 0.67295525]), array([0.67295166, 0.69243666, 0.69319432, 0.69322857, 0.69324445,\n",
      "       0.69354657, 0.69913351, 0.75800937, 0.92216392, 1.0377046 ,\n",
      "       1.02948702, 0.92873151, 0.75785707, 0.69991193, 0.69354412,\n",
      "       0.69323803, 0.69319448, 0.69243666, 0.67295166]), array([0.67295988, 0.6924338 , 0.69320529, 0.69321726, 0.69325825,\n",
      "       0.69360243, 0.70000839, 0.76365585, 0.92935911, 1.05246362,\n",
      "       1.04394712, 0.93547373, 0.76350643, 0.70087076, 0.69361787,\n",
      "       0.69322941, 0.69320549, 0.6924338 , 0.67295988]), array([0.67297962, 0.69243182, 0.69321458, 0.69320859, 0.69327037,\n",
      "       0.69367197, 0.70097968, 0.7695635 , 0.93636114, 1.06719769,\n",
      "       1.05840244, 0.94206622, 0.76941247, 0.70193735, 0.69370042,\n",
      "       0.69322409, 0.69321485, 0.69243183, 0.67297962]), array([0.67301005, 0.69243133, 0.69322083, 0.69320403, 0.69327947,\n",
      "       0.69375767, 0.70205431, 0.77572507, 0.9431599 , 1.0818733 ,\n",
      "       1.07281706, 0.94853208, 0.7755681 , 0.70311946, 0.69379209,\n",
      "       0.69322361, 0.69322118, 0.69243133, 0.67301005]), array([0.67304976, 0.69243252, 0.69322319, 0.69320439, 0.69328482,\n",
      "       0.6938615 , 0.70323985, 0.78213169, 0.94975324, 1.09646259,\n",
      "       1.08716022, 0.95489032, 0.78196527, 0.70442445, 0.69389392,\n",
      "       0.69322881, 0.69322364, 0.69243253, 0.67304976]), array([0.67309691, 0.6924352 , 0.69322145, 0.69320959, 0.6932864 ,\n",
      "       0.69398493, 0.70454445, 0.788773  , 0.95614843, 1.1109435 ,\n",
      "       1.10140748, 0.9611533 , 0.78859496, 0.70585939, 0.69400773,\n",
      "       0.69323973, 0.69322204, 0.69243521, 0.67309691]), array([0.67314933, 0.69243881, 0.69321605, 0.6932187 , 0.69328493,\n",
      "       0.69412901, 0.70597669, 0.79563727, 0.96236232, 1.12529895,\n",
      "       1.11554076, 0.96732577, 0.79544712, 0.70743109, 0.69413614,\n",
      "       0.69325559, 0.69321682, 0.69243882, 0.67314933]), array([0.67320462, 0.6924426 , 0.69320804, 0.6932302 , 0.69328181,\n",
      "       0.69429453, 0.70754532, 0.8027115 , 0.96842035, 1.13951521,\n",
      "       1.12954747, 0.97340555, 0.80251066, 0.70914629, 0.69428243,\n",
      "       0.6932751 , 0.69320904, 0.69244262, 0.67320462]), array([0.67326032, 0.6924458 , 0.69319886, 0.69324223, 0.69327895,\n",
      "       0.6944823 , 0.70925902, 0.80998153, 0.97435439, 1.15357989,\n",
      "       1.1434187 , 0.97938592, 0.80977337, 0.7110118 , 0.69445031,\n",
      "       0.69329667, 0.69320016, 0.69244583, 0.67326032]), array([0.67331399, 0.69244775, 0.6931902 , 0.69325295, 0.69327852,\n",
      "       0.69469337, 0.71112609, 0.81743223, 0.9801998 , 1.16748011,\n",
      "       1.15714712, 0.98525939, 0.81722187, 0.71303463, 0.69464376,\n",
      "       0.6933188 , 0.69319187, 0.69244778, 0.67331399]), array([0.67336334, 0.692448  , 0.69318368, 0.69326078, 0.69328263,\n",
      "       0.69492927, 0.71315427, 0.82504757, 0.98599228, 1.18120102,\n",
      "       1.1707248 , 0.99102208, 0.8248416 , 0.71522205, 0.6948667 ,\n",
      "       0.6933403 , 0.69318583, 0.69244805, 0.67336334]), array([0.67340634, 0.69244645, 0.69318061, 0.69326463, 0.69329299,\n",
      "       0.69519223, 0.71535062, 0.83281091, 0.99176497, 1.19472511,\n",
      "       1.18414136, 0.996678  , 0.83261672, 0.71758152, 0.69512285,\n",
      "       0.69336053, 0.69318333, 0.69244651, 0.67340634]), array([0.67344127, 0.6924433 , 0.69318167, 0.69326406, 0.69331068,\n",
      "       0.69548518, 0.71772147, 0.84070508, 0.9975463 , 1.20803245,\n",
      "       1.1973829 , 1.00224242, 0.84053012, 0.72012061, 0.69541554,\n",
      "       0.69337954, 0.6931851 , 0.69244338, 0.67344127]), array([0.67346677, 0.69243904, 0.69318681, 0.69325931, 0.69333599,\n",
      "       0.69581186, 0.72027256, 0.8487127 , 1.00335902, 1.22110162,\n",
      "       1.21043169, 1.00774363, 0.84856342, 0.72284673, 0.69574775,\n",
      "       0.69339811, 0.69319107, 0.69243914, 0.67346677]), array([0.67348188, 0.6924344 , 0.6931952 , 0.69325133, 0.69336853,\n",
      "       0.69617663, 0.72300917, 0.85681628, 1.00922044, 1.23391111,\n",
      "       1.22326668, 1.01322263, 0.85669705, 0.7257669 , 0.69612214,\n",
      "       0.69341772, 0.69320046, 0.69243453, 0.67348188]), array([0.67348606, 0.6924302 , 0.69320548, 0.69324158, 0.6934074 ,\n",
      "       0.69658434, 0.72593631, 0.86499844, 1.01514382, 1.24644091,\n",
      "       1.23586467, 1.0187308 , 0.86491038, 0.72888744, 0.69654122,\n",
      "       0.69344041, 0.69321191, 0.69243036, 0.67348606]), array([0.67347918, 0.69242725, 0.69321597, 0.6932319 , 0.69345145,\n",
      "       0.69704014, 0.72905893, 0.87324198, 1.02114057, 1.2586738 ,\n",
      "       1.24820192, 1.0243256 , 0.87318205, 0.73221378, 0.69700758,\n",
      "       0.69346848, 0.69322383, 0.69242747, 0.67347918]), array([0.67346156, 0.69242622, 0.69322505, 0.69322422, 0.69349958,\n",
      "       0.69754919, 0.732382  , 0.88152986, 1.02722264, 1.27059603,\n",
      "       1.26025574, 1.03006521, 0.88149034, 0.73575025, 0.69752407,\n",
      "       0.69350427, 0.69323463, 0.6924265 , 0.67346156]), array([0.67343391, 0.6924275 , 0.6932313 , 0.69322025, 0.69355101,\n",
      "       0.69811651, 0.73591053, 0.8898452 , 1.03340478, 1.28219726,\n",
      "       1.27200599, 1.03600268, 0.8898137 , 0.73950003, 0.69809405,\n",
      "       0.69354986, 0.69324297, 0.69242785, 0.67343392]), array([0.67339735, 0.69243113, 0.69323377, 0.69322117, 0.69360551,\n",
      "       0.69874682, 0.73964942, 0.89817113, 1.03970599, 1.29346981,\n",
      "       1.28343605, 1.04218089, 0.89813143, 0.74346525, 0.6987215 ,\n",
      "       0.69360683, 0.69324799, 0.69243157, 0.67339735]), array([0.67335335, 0.69243678, 0.69323209, 0.69322738, 0.69366352,\n",
      "       0.69944451, 0.74360323, 0.90649069, 1.04614994, 1.30440727,\n",
      "       1.29453322, 1.04862887, 0.90642428, 0.74764709, 0.69941108,\n",
      "       0.69367619, 0.69324942, 0.69243734, 0.67335335]), array([0.67330373, 0.6924438 , 0.69322649, 0.69323844, 0.69372623,\n",
      "       0.70021368, 0.74777587, 0.91478678, 1.05276431, 1.31500295,\n",
      "       1.30528858, 1.05536039, 0.91467509, 0.75204604, 0.70016811,\n",
      "       0.69375836, 0.6932476 , 0.69244448, 0.67330374]), array([0.67325058, 0.69245128, 0.69321777, 0.69325323, 0.69379552,\n",
      "       0.70105829, 0.75217025, 0.92304218, 1.05957904, 1.32524849,\n",
      "       1.31569633, 1.06237484, 0.92286922, 0.75666212, 0.7009984 ,\n",
      "       0.69385333, 0.69324348, 0.69245213, 0.67325059]), array([0.67319619, 0.69245827, 0.69320722, 0.69327016, 0.69387379,\n",
      "       0.70198235, 0.75678799, 0.93123974, 1.06662395, 1.33513305,\n",
      "       1.32575281, 1.06966034, 0.93099472, 0.76149504, 0.70190813,\n",
      "       0.69396085, 0.69323849, 0.69245932, 0.6731962 ]), array([0.67314297, 0.69246382, 0.69319641, 0.69328753, 0.69396378,\n",
      "       0.7029901 , 0.7616292 , 0.93936274, 1.0739261 , 1.34464328,\n",
      "       1.33545543, 1.07719839, 0.93904225, 0.76654436, 0.70290357,\n",
      "       0.69408068, 0.69323433, 0.69246511, 0.67314298]), array([0.67309332, 0.69246717, 0.69318696, 0.69330383, 0.6940683 ,\n",
      "       0.70408623, 0.7666924 , 0.94739541, 1.08150744, 1.35376414,\n",
      "       1.34480168, 1.08496925, 0.94700456, 0.7718094 , 0.70399089,\n",
      "       0.69421286, 0.69323272, 0.69246876, 0.67309333]), array([0.67304955, 0.69246782, 0.69318031, 0.69331792, 0.69418998,\n",
      "       0.70527592, 0.77197462, 0.95532346, 1.08938307, 1.36248056,\n",
      "       1.35378839, 1.09295702, 0.95487576, 0.77728917, 0.70517602,\n",
      "       0.69435793, 0.69323517, 0.69246977, 0.67304956]), array([0.67301369, 0.69246557, 0.69317747, 0.69332928, 0.69433107,\n",
      "       0.70656493, 0.77747161, 0.96313477, 1.09756043, 1.37077952,\n",
      "       1.36241139, 1.10115346, 0.9626504 , 0.78298207, 0.70646449,\n",
      "       0.69451706, 0.69324275, 0.69246796, 0.67301371]), array([0.67298743, 0.69246053, 0.69317882, 0.69333808, 0.69449335,\n",
      "       0.70795948, 0.7831782 , 0.97081985, 1.10603958, 1.37865221,\n",
      "       1.37066545, 1.10956006, 0.97032252, 0.78888564, 0.70786149,\n",
      "       0.69469209, 0.69325591, 0.69246347, 0.67298746]), array([0.67297198, 0.69245312, 0.69318404, 0.69334518, 0.69467814,\n",
      "       0.70946614, 0.7890886 , 0.97837225, 1.11481421, 1.38609572,\n",
      "       1.37854467, 1.11818774, 0.97788488, 0.79499616, 0.7093719 ,\n",
      "       0.69488554, 0.69327449, 0.69245672, 0.67297201]), array([0.67296799, 0.69244398, 0.69319223, 0.69335207, 0.69488634,\n",
      "       0.71109156, 0.79519681, 0.98578862, 1.12387341, 1.39311396,\n",
      "       1.38604303, 1.12705463, 0.98532861, 0.80130851, 0.71100048,\n",
      "       0.69510047, 0.69329787, 0.69244837, 0.67296802]), array([0.67297547, 0.69243388, 0.69320209, 0.69336065, 0.69511868,\n",
      "       0.71284225, 0.8014968 , 0.99306862, 1.13320343, 1.39971747,\n",
      "       1.39315512, 1.13618206, 0.99264331, 0.8078159 , 0.71275203,\n",
      "       0.69534028, 0.69332509, 0.69243923, 0.67297551]), array([0.67299387, 0.69242367, 0.69321217, 0.69337299, 0.6953759 ,\n",
      "       0.71472438, 0.8079826 , 1.00021442, 1.14278945, 1.40592215,\n",
      "       1.39987683, 1.14558972, 0.99981782, 0.81450992, 0.71463158,\n",
      "       0.69560849, 0.69335513, 0.69243017, 0.67299392]), array([0.67302202, 0.69241414, 0.69322111, 0.693391  , 0.69565903,\n",
      "       0.71674358, 0.81464823, 1.0072301 , 1.15261667, 1.41174693,\n",
      "       1.40620599, 1.15529085, 1.00684143, 0.82138068, 0.71664449,\n",
      "       0.69590853, 0.6933871 , 0.69242199, 0.67302208]), array([0.67305827, 0.69240594, 0.69322783, 0.69341624, 0.69596952,\n",
      "       0.71890492, 0.82148744, 1.01412094, 1.16267088, 1.417211  ,\n",
      "       1.41214283, 1.16528824, 1.01370558, 0.82841701, 0.71879651,\n",
      "       0.69624359, 0.69342043, 0.69241539, 0.67305833]), array([0.67310057, 0.69239955, 0.69323171, 0.69344964, 0.69630945,\n",
      "       0.72121288, 0.82849339, 1.02089276, 1.17293827, 1.42233088,\n",
      "       1.41769026, 1.17557188, 1.02040557, 0.83560689, 0.72109365,\n",
      "       0.69661647, 0.69345504, 0.69241086, 0.67310065]), array([0.67314664, 0.69239522, 0.6932326 , 0.69349152, 0.69668154,\n",
      "       0.72367155, 0.83565821, 1.0275514 , 1.18340471, 1.42711809,\n",
      "       1.42285391, 1.18611856, 1.02694221, 0.84293776, 0.72354207,\n",
      "       0.69702966, 0.69349135, 0.69240869, 0.67314673]), array([0.67319407, 0.69239301, 0.69323089, 0.69354159, 0.69708916,\n",
      "       0.72628478, 0.84297275, 1.03410254, 1.19405482, 1.43157779,\n",
      "       1.42764202, 1.19689331, 1.0333229 , 0.85039691, 0.7261478 ,\n",
      "       0.69748536, 0.69353031, 0.69240899, 0.67319419]), array([0.67324053, 0.69239282, 0.69322744, 0.69359917, 0.69753618,\n",
      "       0.72905645, 0.85042628, 1.04055179, 1.20487096, 1.43570875,\n",
      "       1.43206513, 1.20785262, 1.03956198, 0.85797177, 0.72891649,\n",
      "       0.69798566, 0.69357325, 0.69241172, 0.67324067]), array([0.67328385, 0.69239443, 0.69322341, 0.69366341, 0.69802682,\n",
      "       0.73199058, 0.85800651, 1.0469051 , 1.2158325 , 1.43950466,\n",
      "       1.43613563, 1.2189485 , 1.04568018, 0.86565006, 0.73185313,\n",
      "       0.69853276, 0.69362182, 0.69241674, 0.67328401]), array([0.67332216, 0.6923976 , 0.69322013, 0.69373351, 0.69856543,\n",
      "       0.73509151, 0.86569972, 1.05316938, 1.22691548, 1.44295677,\n",
      "       1.43986722, 1.23013285, 1.05170314, 0.87341982, 0.73496189,\n",
      "       0.69912912, 0.69367774, 0.69242388, 0.67332235]), array([0.67335394, 0.69240206, 0.69321888, 0.69380901, 0.69915632,\n",
      "       0.73836385, 0.87349108, 1.05935328, 1.23809283, 1.44605711,\n",
      "       1.44327433, 1.24136135, 1.05765917, 0.88126939, 0.73824601,\n",
      "       0.69977766, 0.69374266, 0.69243299, 0.67335416]), array([0.67337812, 0.69240758, 0.69322068, 0.69388994, 0.69980355,\n",
      "       0.74181231, 0.88136516, 1.06546783, 1.24933487, 1.448802  ,\n",
      "       1.44637142, 1.25259616, 1.06357662, 0.88918723, 0.74170783,\n",
      "       0.70048183, 0.69381801, 0.69244396, 0.67337838]), array([0.67339403, 0.69241398, 0.69322615, 0.69397695, 0.70051088,\n",
      "       0.74544147, 0.88930644, 1.07152684, 1.26061029, 1.45119509,\n",
      "       1.44917249, 1.26380731, 1.06948123, 0.89716176, 0.74534899,\n",
      "       0.70124563, 0.69390493, 0.69245672, 0.67339434]), array([0.67340145, 0.69242112, 0.6932354 , 0.69407129, 0.70128174,\n",
      "       0.74925545, 0.89729983, 1.07754712, 1.2718871 , 1.45324925,\n",
      "       1.45169053, 1.27497242, 1.07539386, 0.90518122, 0.74917061,\n",
      "       0.70207352, 0.69400424, 0.69247127, 0.67340181]), array([0.67340053, 0.69242888, 0.69324811, 0.6941748 , 0.70211931,\n",
      "       0.75325753, 0.90533106, 1.0835481 , 1.28313359, 1.4549872 ,\n",
      "       1.45393732, 1.28607517, 1.0813292 , 0.91323355, 0.75317365,\n",
      "       0.70297032, 0.6941165 , 0.69248763, 0.67340096]), array([0.67339177, 0.69243717, 0.69326361, 0.69428972, 0.70302668,\n",
      "       0.75744987, 0.91338694, 1.08955124, 1.29431898, 1.45644038,\n",
      "       1.45592341, 1.29710288, 1.08729557, 0.92130634, 0.75735911,\n",
      "       0.70394094, 0.6942421 , 0.69250584, 0.67339226]), array([0.67337594, 0.69244587, 0.69328103, 0.69441848, 0.704007  ,\n",
      "       0.7618333 , 0.92145542, 1.09557908, 1.30541382, 1.45764654,\n",
      "       1.45765854, 1.30804369, 1.09329591, 0.92938688, 0.76172824,\n",
      "       0.70499027, 0.69438146, 0.69252593, 0.67337652]), array([0.67335406, 0.69245483, 0.69329951, 0.69456351, 0.7050637 ,\n",
      "       0.7664073 , 0.92952542, 1.10165416, 1.31639011, 1.45864614,\n",
      "       1.4591522 , 1.31888396, 1.09932989, 0.93746226, 0.76628259,\n",
      "       0.70612297, 0.69453511, 0.69254787, 0.67335474]), array([0.67332731, 0.69246383, 0.69331837, 0.69472707, 0.70620059,\n",
      "       0.77117009, 0.93758665, 1.10779796, 1.32722119, 1.45947847,\n",
      "       1.4604146 , 1.32960638, 1.10539673, 0.9455195 , 0.77102387,\n",
      "       0.70734337, 0.69470387, 0.69257158, 0.6733281 ]), array([0.67329702, 0.6924726 , 0.69333722, 0.69491103, 0.70742197,\n",
      "       0.77611898, 0.9456292 , 1.11403   , 1.33788155, 1.46017788,\n",
      "       1.46145767, 1.34018903, 1.1114982 , 0.95354567, 0.7759537 ,\n",
      "       0.70865549, 0.6948889 , 0.69259692, 0.67329794]), array([0.67326458, 0.69248078, 0.69335606, 0.69511691, 0.7087326 ,\n",
      "       0.78125068, 0.95364322, 1.12036732, 1.34834666, 1.46077097,\n",
      "       1.46229606, 1.3506055 , 1.1176413 , 0.96152807, 0.78107322,\n",
      "       0.71006309, 0.69509174, 0.69262374, 0.67326565]), array([0.67323146, 0.69248798, 0.69337526, 0.69534584, 0.71013758,\n",
      "       0.78656177, 0.96161872, 1.12682429, 1.35859299, 1.46127516,\n",
      "       1.46294796, 1.36082607, 1.12384005, 0.96945433, 0.7863827 ,\n",
      "       0.71156984, 0.6953143 , 0.69265187, 0.67323269]), array([0.67319911, 0.69249381, 0.6933956 , 0.69559871, 0.71164223,\n",
      "       0.79204907, 0.96954545, 1.13341279, 1.36859817, 1.46169892,\n",
      "       1.46343538, 1.37081941, 1.13011595, 0.97731257, 0.79188105,\n",
      "       0.71317947, 0.69555876, 0.69268118, 0.67320053]), array([0.67316895, 0.69249794, 0.69341809, 0.69587631, 0.71325185,\n",
      "       0.79770988, 0.97741295, 1.14014265, 1.37834122, 1.46204351,\n",
      "       1.46378406, 1.38055474, 1.13649707, 0.98509155, 0.7975656 ,\n",
      "       0.71489602, 0.6958275 , 0.69271168, 0.67317059]), array([0.67314232, 0.69250012, 0.69344393, 0.69617954, 0.71497152,\n",
      "       0.80354201, 0.98521081, 1.14702227, 1.38780296, 1.46230599,\n",
      "       1.46402253, 1.3900037 , 1.14301576, 0.99278091, 0.80343194,\n",
      "       0.71672391, 0.69612294, 0.69274351, 0.67314421]), array([0.67312041, 0.69250024, 0.69347431, 0.69650958, 0.71680595,\n",
      "       0.80954366, 0.99292902, 1.15405919, 1.39696617, 1.46248288,\n",
      "       1.46418081, 1.3991419 , 1.1497053 , 1.0003714 , 0.80947396,\n",
      "       0.71866803, 0.69644748, 0.692777  , 0.67312258]), array([0.67310419, 0.69249835, 0.69351029, 0.69686801, 0.71875938,\n",
      "       0.81571304, 1.00055841, 1.16126045, 1.40581577, 1.46257383,\n",
      "       1.46428842, 1.40794976, 1.15659616, 1.00785524, 0.81568418,\n",
      "       0.72073367, 0.69680339, 0.69281266, 0.67310668]), array([0.67309438, 0.69249466, 0.69355271, 0.69725693, 0.72083557,\n",
      "       0.82204784, 1.00809108, 1.16863276, 1.4143386 , 1.46258455,\n",
      "       1.4643724 , 1.41641261, 1.16371232, 1.01522649, 0.82205415,\n",
      "       0.72292634, 0.6971928 , 0.69285123, 0.67309723]), array([0.67309136, 0.69248954, 0.69360215, 0.69767891, 0.72303791,\n",
      "       0.82854475, 1.01552075, 1.17618231, 1.42252306, 1.46252862,\n",
      "       1.46445531, 1.42452017, 1.17106851, 1.02248135, 0.82857504,\n",
      "       0.7252515 , 0.69761773, 0.6928936 , 0.67309462]), array([0.67309515, 0.69248353, 0.69365888, 0.69813696, 0.72536958,\n",
      "       0.83519887, 1.02284301, 1.18391433, 1.43035859, 1.46242769,\n",
      "       1.46455376, 1.43226555, 1.17866864, 1.02961846, 0.8352381 ,\n",
      "       0.72771425, 0.69808017, 0.69294079, 0.67309886]), array([0.67310537, 0.69247723, 0.69372301, 0.69863436, 0.72783377,\n",
      "       0.84200347, 1.03005543, 1.19183254, 1.43783504, 1.46231022,\n",
      "       1.46467772, 1.43964405, 1.18650589, 1.03663896, 0.84203518,\n",
      "       0.73031907, 0.69858219, 0.69299393, 0.6731096 ]), array([0.67312126, 0.69247137, 0.69379449, 0.69917455, 0.73043389,\n",
      "       0.84894976, 1.03715745, 1.19993841, 1.44494228, 1.46220885,\n",
      "       1.46483087, 1.44665206, 1.19456423, 1.04354635, 0.84895895,\n",
      "       0.73306958, 0.69912609, 0.69305416, 0.67312607]), array([0.67314174, 0.69246667, 0.6938733 , 0.69976094, 0.7331737 ,\n",
      "       0.85602714, 1.04415023, 1.20823068, 1.45166998, 1.46215698,\n",
      "       1.46501179, 1.45328617, 1.20282126, 1.05034611, 0.85600298,\n",
      "       0.73596844, 0.69971447, 0.69312268, 0.6731472 ]), array([0.67316543, 0.69246384, 0.69395954, 0.70039677, 0.73605736,\n",
      "       0.86322359, 1.05103639, 1.21670499, 1.45800786, 1.46218502,\n",
      "       1.46521604, 1.45954277, 1.2112517 , 1.05704508, 0.8631615 ,\n",
      "       0.73901746, 0.70035032, 0.69320064, 0.67317161]), array([0.67319075, 0.69246355, 0.6940535 , 0.7010851 , 0.73908936,\n",
      "       0.87052626, 1.05781964, 1.22535377, 1.46394628, 1.46231716,\n",
      "       1.46543875, 1.46541794, 1.21983104, 1.06365066, 0.87042902,\n",
      "       0.74221774, 0.70103698, 0.69328916, 0.67319775]), array([0.67321608, 0.69246635, 0.69415575, 0.70182875, 0.7422743 ,\n",
      "       0.87792227, 1.06450457, 1.23416643, 1.46947722, 1.46256902,\n",
      "       1.46567718, 1.47090788, 1.22853852, 1.07016998, 0.87779982,\n",
      "       0.74557008, 0.70177813, 0.69338934, 0.67322399]), array([0.67323983, 0.69247268, 0.69426715, 0.70263038, 0.74561661,\n",
      "       0.88539935, 1.07109643, 1.24312986, 1.4745954 , 1.46294664,\n",
      "       1.46593301, 1.47600941, 1.23735911, 1.07660922, 0.8852673 ,\n",
      "       0.74907533, 0.70257759, 0.69350226, 0.67324875]), array([0.67326055, 0.69248288, 0.69438882, 0.70349266, 0.74912015,\n",
      "       0.89294647, 1.07760099, 1.2522289 , 1.47929935, 1.46344695,\n",
      "       1.46621373, 1.48072065, 1.24628417, 1.08297307, 0.89282359,\n",
      "       0.75273475, 0.70343923, 0.69362901, 0.67327061]), array([0.6732771 , 0.69249712, 0.69452212, 0.70441833, 0.75278794,\n",
      "       0.90055412, 1.08402456, 1.26144704, 1.48359226, 1.46405958,\n",
      "       1.46653293, 1.48504157, 1.25531057, 1.08926471, 0.90045911,\n",
      "       0.75655035, 0.70436679, 0.69377075, 0.67328841]), array([0.67328864, 0.69251551, 0.69466854, 0.70541042, 0.75662185,\n",
      "       0.90821436, 1.09037403, 1.27076683, 1.48748216, 1.46476961,\n",
      "       1.46690935, 1.48897436, 1.2644387 , 1.09548619, 0.9081626 ,\n",
      "       0.76052493, 0.70536373, 0.69392868, 0.67330136]), array([0.67329475, 0.69253806, 0.69482967, 0.70647233, 0.76062254,\n",
      "       0.91592052, 1.09665704, 1.28017031, 1.49098165, 1.46556078,\n",
      "       1.46736481, 1.49252354, 1.27366967, 1.10163918, 0.91592121,\n",
      "       0.764662  , 0.70643321, 0.69410409, 0.67330903]), array([0.6732954 , 0.69256469, 0.69500707, 0.70760783, 0.76478946,\n",
      "       0.92366664, 1.10288207, 1.28963908, 1.49410685, 1.46641857,\n",
      "       1.46792126, 1.49569587, 1.2830023 , 1.10772612, 0.92372101,\n",
      "       0.76896546, 0.70757801, 0.6942983 , 0.67331141]), array([0.67329093, 0.6925953 , 0.69520224, 0.70882106, 0.76912115,\n",
      "       0.93144678, 1.10905856, 1.29915432, 1.49687588, 1.46733269,\n",
      "       1.46859748, 1.49850013, 1.29243045, 1.11375153, 0.93154755,\n",
      "       0.77343908, 0.7088007 , 0.69451266, 0.67330887]), array([0.67328203, 0.69262975, 0.6954166 , 0.71011638, 0.77361554,\n",
      "       0.93925428, 1.11519699, 1.30869663, 1.49930702, 1.4682985 ,\n",
      "       1.46940597, 1.50094674, 1.30194119, 1.11972316, 0.93938659,\n",
      "       0.77808584, 0.7101038 , 0.6947485 , 0.67330209]), array([0.67326962, 0.69266788, 0.6956515 , 0.71149819, 0.77827049,\n",
      "       0.94708114, 1.12130882, 1.3182459 , 1.50141694, 1.46931733,\n",
      "       1.47035063, 1.50304755, 1.31151408, 1.12565283, 0.94722474,\n",
      "       0.78290737, 0.71148999, 0.69500705, 0.67329204]), array([0.6732548 , 0.69270955, 0.69590825, 0.71297075, 0.78308417,\n",
      "       0.95491764, 1.12740639, 1.32778116, 1.50321929, 1.47039559,\n",
      "       1.47142572, 1.50481556, 1.3211218 , 1.13155676, 0.95505001,\n",
      "       0.7879034 , 0.71296237, 0.69528941, 0.6732798 ]), array([0.6732387 , 0.69275464, 0.69618821, 0.71453798, 0.78805541,\n",
      "       0.96275234, 1.13350274, 1.3372806 , 1.50472389, 1.47154296,\n",
      "       1.47261635, 1.50626486, 1.33073172, 1.13745517, 0.96285214,\n",
      "       0.79307153, 0.71452465, 0.69559654, 0.67326657]), array([0.67322246, 0.69280305, 0.69649289, 0.71620337, 0.79318392,\n",
      "       0.97057237, 1.13961135, 1.34672173, 1.5059369 , 1.47277005,\n",
      "       1.47390043, 1.50741049, 1.3403083 , 1.14337121, 0.97062264,\n",
      "       0.79840728, 0.71618129, 0.69592929, 0.67325349]), array([0.67320712, 0.69285477, 0.69682396, 0.71796991, 0.79847019,\n",
      "       0.97836404, 1.14574582, 1.35608165, 1.5068617 , 1.4740859 ,\n",
      "       1.47525175, 1.50826847, 1.34981574, 1.1493293 , 0.97835463,\n",
      "       0.80390434, 0.71793746, 0.69628845, 0.67324161]), array([0.67319355, 0.69290985, 0.69718329, 0.71984021, 0.80391519,\n",
      "       0.98611375, 1.15191955, 1.36533737, 1.50750061, 1.47549578,\n",
      "       1.47664372, 1.50885557, 1.35922045, 1.15535313, 0.9860425 ,\n",
      "       0.80955527, 0.71979886, 0.69667484, 0.67323185]), array([0.67318245, 0.69296845, 0.69757295, 0.72181662, 0.80951988,\n",
      "       0.99380885, 1.15814547, 1.37446623, 1.50785706, 1.47699965,\n",
      "       1.47805314, 1.50918912, 1.36849298, 1.1614636 , 0.99368142,\n",
      "       0.81535225, 0.72177144, 0.6970895 , 0.67322493]), array([0.67317433, 0.69303083, 0.69799519, 0.72390151, 0.81528457,\n",
      "       1.00143859, 1.16443569, 1.38344621, 1.50793778, 1.47859153,\n",
      "       1.47946332, 1.50928661, 1.37760901, 1.16767706, 1.00126681,\n",
      "       0.82128793, 0.72386099, 0.69753379, 0.67322139]), array([0.6731695 , 0.6930974 , 0.69845229, 0.72609752, 0.82120823,\n",
      "       1.00899468, 1.17080132, 1.39225613, 1.50775468, 1.48025986,\n",
      "       1.48086616, 1.50916522, 1.38654944, 1.17400417, 1.00879402,\n",
      "       0.82735619, 0.72607273, 0.69800953, 0.67322156]), array([0.67316809, 0.69316872, 0.69894661, 0.72840779, 0.82728797,\n",
      "       1.01647166, 1.17725229, 1.40087584, 1.50732596, 1.48198877,\n",
      "       1.48226271, 1.50884147, 1.39529965, 1.18044965, 1.016258  ,\n",
      "       0.83355261, 0.72841089, 0.69851914, 0.67322563]), array([0.67317011, 0.69324555, 0.69948041, 0.73083614, 0.83351869,\n",
      "       1.0238668 , 1.18379729, 1.40928618, 1.50667629, 1.48375989,\n",
      "       1.48366221, 1.50833092, 1.4038481 , 1.1870128 , 1.02365327,\n",
      "       0.83987463, 0.73087847, 0.69906567, 0.67323361]), array([0.67317542, 0.69332877, 0.70005584, 0.73338704, 0.83989303,\n",
      "       1.03117971, 1.19044369, 1.41746893, 1.50583591, 1.48555459,\n",
      "       1.48507972, 1.50764816, 1.41218472, 1.19368898, 1.03097404,\n",
      "       0.84632132, 0.73347712, 0.69965275, 0.67324543]), array([0.67318378, 0.69341947, 0.70067493, 0.73606551, 0.84640171,\n",
      "       1.03841158, 1.19719764, 1.42540678, 1.5048387 , 1.48735605,\n",
      "       1.48653285, 1.50680708, 1.4202993 , 1.20047152, 1.03821454,\n",
      "       0.85289271, 0.73620727, 0.70028445, 0.67326086]), array([0.67319485, 0.69351883, 0.70133957, 0.73887679, 0.85303408,\n",
      "       1.04556435, 1.2040641 , 1.43308334, 1.50371968, 1.48915099,\n",
      "       1.48803805, 1.50582151, 1.42818032, 1.20735398, 1.04536935,\n",
      "       0.85958885, 0.73906847, 0.7009651 , 0.67327962]), array([0.67320819, 0.69362811, 0.70205157, 0.74182595, 0.85977902,\n",
      "       1.05263985, 1.21104695, 1.44048323, 1.5025122 , 1.49093087,\n",
      "       1.48960718, 1.50470603, 1.43581437, 1.21433208, 1.05243379,\n",
      "       0.8664088 , 0.74205987, 0.70169902, 0.6733013 ]), array([0.67322325, 0.69374862, 0.70281287, 0.74491742, 0.86662574,\n",
      "       1.05963905, 1.2181491 , 1.44759232, 1.50124532, 1.49269228,\n",
      "       1.49124492, 1.50347694, 1.44318622, 1.2214052 , 1.0594043 ,\n",
      "       0.87334954, 0.74518087, 0.70249019, 0.67332541]), array([0.67323941, 0.69388162, 0.70362557, 0.74815454, 0.87356471,\n",
      "       1.0665617 , 1.22537252, 1.45439807, 1.49994201, 1.49443662,\n",
      "       1.49294754, 1.50215303, 1.45027946, 1.22857696, 1.06627859,\n",
      "       0.88040526, 0.74843174, 0.7033421 , 0.67335136]), array([0.67325592, 0.6940283 , 0.70449217, 0.75153934, 0.88058821,\n",
      "       1.07340625, 1.23271826, 1.46088983, 1.49861825, 1.49616913,\n",
      "       1.49470313, 1.50075611, 1.45707761, 1.23585484, 1.07305581,\n",
      "       0.88756698, 0.75181406, 0.70425751, 0.67337848]), array([0.673272  , 0.69418978, 0.70541563, 0.75507232, 0.88769061,\n",
      "       1.08017018, 1.2401864 , 1.46705915, 1.4972834 , 1.49789744,\n",
      "       1.49649342, 1.49931091, 1.4635653 , 1.24324895, 1.07973646,\n",
      "       0.89482266, 0.755331  , 0.70523846, 0.67340603]), array([0.6732868 , 0.69436708, 0.70639943, 0.75875262, 0.89486822,\n",
      "       1.08685068, 1.24777588, 1.47289987, 1.49594168, 1.49962989,\n",
      "       1.49829647, 1.49784445, 1.4697294 , 1.25077004, 1.08632235,\n",
      "       0.90215787, 0.75898731, 0.70628636, 0.67343323]), array([0.67329948, 0.69456115, 0.70744755, 0.76257835, 0.9021187 ,\n",
      "       1.09344545, 1.25548434, 1.47840803, 1.49459448, 1.50137375,\n",
      "       1.50009006, 1.49638472, 1.4755598 , 1.25842713, 1.09281643,\n",
      "       0.90955674, 0.76278896, 0.70740223, 0.6734593 ]), array([0.67330927, 0.69477291, 0.70856428, 0.76654706, 0.90944027,\n",
      "       1.09995363, 1.26330786, 1.48358152, 1.49324318, 1.50313372,\n",
      "       1.50185489, 1.49495891, 1.48104978, 1.26622531, 1.09922272,\n",
      "       0.91700329, 0.76674247, 0.70858708, 0.67348354]), array([0.67331552, 0.69500333, 0.7097541 , 0.77065642, 0.91683055,\n",
      "       1.10637658, 1.27124074, 1.4884196 , 1.49189177, 1.50491082,\n",
      "       1.50357727, 1.49359147, 1.48619585, 1.27416389, 1.10554623,\n",
      "       0.92448273, 0.77085405, 0.70984229, 0.67350539]), array([0.67331779, 0.69525349, 0.71102135, 0.77490479, 0.92428558,\n",
      "       1.11271841, 1.27927534, 1.49292219, 1.49054903, 1.50670183,\n",
      "       1.50525072, 1.49230225, 1.49099725, 1.28223546, 1.11179297,\n",
      "       0.93198262, 0.7751287 , 0.71117001, 0.67352448]), array([0.67331588, 0.69552464, 0.71237003, 0.77929178, 0.93179896,\n",
      "       1.11898614, 1.287402  , 1.49708933, 1.48922964, 1.5084994 ,\n",
      "       1.5068763 , 1.49110522, 1.4954552 , 1.2904258 , 1.11797   ,\n",
      "       0.93949364, 0.7795693 , 0.71257348, 0.67354068]), array([0.67330991, 0.69581826, 0.7138036 , 0.78381844, 0.93936138,\n",
      "       1.12518951, 1.2956091 , 1.5009207 , 1.48795418, 1.51029275,\n",
      "       1.50846173, 1.490008  , 1.49957206, 1.29871485, 1.12408545,\n",
      "       0.94700979, 0.78417609, 0.71405718, 0.6735542 ]), array([0.67330027, 0.69613608, 0.71532481, 0.78848732, 0.94696068,\n",
      "       1.13134036, 1.30388322, 1.50441546, 1.48674788, 1.51206885,\n",
      "       1.51001933, 1.48901235, 1.50335066, 1.30707838, 1.13014851,\n",
      "       0.95452812, 0.78894634, 0.71562675, 0.67356551]), array([0.6732877 , 0.69648006, 0.71693569, 0.79330205, 0.95458239,\n",
      "       1.13745179, 1.31220948, 1.50757241, 1.48563844, 1.51381389,\n",
      "       1.51156337, 1.48811568, 1.50679384, 1.31549019, 1.13616936,\n",
      "       0.96204788, 0.79387458, 0.71728873, 0.67357544]), array([0.67327318, 0.69685231, 0.71863767, 0.79826672, 0.9622107 ,\n",
      "       1.1435372 , 1.3205719 , 1.51039051, 1.48465318, 1.51551483,\n",
      "       1.51310716, 1.48731315, 1.5099043 , 1.32392434, 1.14215883,\n",
      "       0.96956928, 0.79895323, 0.71905003, 0.67358503]), array([0.67325789, 0.69725499, 0.72043183, 0.80338499, 0.96982977,\n",
      "       1.14960926, 1.32895382, 1.51286974, 1.48381612, 1.51716093,\n",
      "       1.51466049, 1.48660027, 1.51268478, 1.33235711, 1.14812805,\n",
      "       0.97709213, 0.80417358, 0.72091736, 0.67359555]), array([0.67324312, 0.69769018, 0.72231922, 0.8086592 , 0.97742513,\n",
      "       1.15567921, 1.33733827, 1.51501204, 1.48314548, 1.51874486,\n",
      "       1.5162277 , 1.48597535, 1.51513848, 1.34076833, 1.15408795,\n",
      "       0.98461451, 0.80952698, 0.72289651, 0.67360836]), array([0.67323017, 0.69815979, 0.72430127, 0.8140895 , 0.98498485,\n",
      "       1.1617563 , 1.34570832, 1.51682225, 1.48265195, 1.52026353,\n",
      "       1.51780683, 1.48544148, 1.51726946, 1.3491419 , 1.16004873,\n",
      "       0.99213178, 0.81500603, 0.72499183, 0.67362485]), array([0.67322023, 0.69866542, 0.72638013, 0.81967333, 0.99250048,\n",
      "       1.16784772, 1.35404726, 1.51830882, 1.48233816, 1.52171816,\n",
      "       1.51938991, 1.4850075 , 1.51908321, 1.35746549, 1.16601946,\n",
      "       0.99963615, 0.82060561, 0.72720574, 0.67364629]), array([0.67321434, 0.69920838, 0.72855895, 0.82540526, 0.99996732,\n",
      "       1.17395882, 1.36233868, 1.51948414, 1.48219941, 1.52311391,\n",
      "       1.52096418, 1.48468785, 1.52058692, 1.36572952, 1.17200775,\n",
      "       1.00711677, 0.82632348, 0.72953876, 0.67367377]), array([0.67321323, 0.69978969, 0.73084202, 0.83127715, 1.00738422,\n",
      "       1.18009368, 1.37056642, 1.52036424, 1.48222539, 1.52445878,\n",
      "       1.52251407, 1.48450119, 1.52178962, 1.37392568, 1.17801976,\n",
      "       1.01456045, 0.83216039, 0.73198962, 0.67370814]), array([0.67321735, 0.70041022, 0.7332346 , 0.83727895, 1.01475276,\n",
      "       1.18625586, 1.37871444, 1.52096809, 1.48240269, 1.52576217,\n",
      "       1.52402352, 1.48446804, 1.52270213, 1.38204535, 1.18406044,\n",
      "       1.02195281, 0.83811963, 0.73455592, 0.67374993]), array([0.67322683, 0.70107083, 0.73574268, 0.84339959, 1.02207594,\n",
      "       1.19244916, 1.38676666, 1.52131637, 1.48271756, 1.52703307,\n",
      "       1.52547805, 1.48460767, 1.52333677, 1.39007812, 1.19013403,\n",
      "       1.02927978, 0.844206  , 0.73723491, 0.67379933]), array([0.67324145, 0.70177264, 0.73837244, 0.84962827, 1.02935677,\n",
      "       1.19867834, 1.39470682, 1.52142994, 1.48315844, 1.52827829,\n",
      "       1.5268666 , 1.48493502, 1.52370705, 1.39801087, 1.19624467,\n",
      "       1.03652898, 0.85042444, 0.74002447, 0.67385625]), array([0.67326077, 0.70251722, 0.74112969, 0.85595556, 1.03659682,\n",
      "       1.20494953, 1.40251845, 1.5213284 , 1.48371789, 1.5295009 ,\n",
      "       1.52818257, 1.48545794, 1.52382732, 1.40582744, 1.20239709,\n",
      "       1.04369107, 0.85677848, 0.74292401, 0.67392034]), array([0.67328412, 0.70330682, 0.74401925, 0.86237441, 1.04379505,\n",
      "       1.21127035, 1.41018489, 1.52102878, 1.48439351, 1.5306993 ,\n",
      "       1.5294241 , 1.48617554, 1.52371256, 1.41350889, 1.20859724,\n",
      "       1.0507605 , 0.86326882, 0.74593527, 0.67399102]), array([0.6733107 , 0.70414453, 0.74704442, 0.86888068, 1.05094722,\n",
      "       1.21764965, 1.4176895 , 1.5205448 , 1.48518787, 1.53186697,\n",
      "       1.5305936 , 1.48707782, 1.52337823, 1.42103447, 1.21485255,\n",
      "       1.05773581, 0.86989217, 0.74906267, 0.67406761]), array([0.67333965, 0.70503422, 0.75020665, 0.87547316, 1.05804591,\n",
      "       1.22409699, 1.42501595, 1.51988682, 1.48610736, 1.53299309,\n",
      "       1.53169668, 1.48814689, 1.5228403 , 1.4283828 , 1.22117196,\n",
      "       1.06461929, 0.87664075, 0.75231327, 0.67414936]), array([0.67337014, 0.70598054, 0.75350544, 0.882153  , 1.06508125,\n",
      "       1.23062175, 1.43214854, 1.5190624 , 1.48716036, 1.53406375,\n",
      "       1.53274068, 1.48935938, 1.52211531, 1.43553329, 1.22756549,\n",
      "       1.07141612, 0.88350241, 0.75569624, 0.67423554]), array([0.67340141, 0.70698858, 0.75693864, 0.88892275, 1.07204212,\n",
      "       1.23723229, 1.43907251, 1.51807751, 1.48835495, 1.53506388,\n",
      "       1.53373304, 1.4906896 , 1.52122036, 1.4424673 , 1.23404344,\n",
      "       1.07813317, 0.89046151, 0.75922182, 0.67432549]), array([0.67343278, 0.7080636 , 0.76050289, 0.89578491, 1.07891781,\n",
      "       1.243935  , 1.4457743 , 1.51693822, 1.48969664, 1.53597928,\n",
      "       1.53467986, 1.49211316, 1.52017315, 1.44916902, 1.2406154 ,\n",
      "       1.08477765, 0.89750032, 0.76290006, 0.67441864]), array([0.67346372, 0.70921057, 0.76419445, 0.90274045, 1.08569964,\n",
      "       1.25073366, 1.45224165, 1.51565243, 1.49118653, 1.53679878,\n",
      "       1.53558477, 1.49361002, 1.51899166, 1.45562579, 1.24728907,\n",
      "       1.09135586, 0.90460083, 0.76673934, 0.67451457]), array([0.67349381, 0.71043377, 0.76800997, 0.90978746, 1.09238246,\n",
      "       1.25762897, 1.4584636 , 1.51423144, 1.49282012, 1.53751597,\n",
      "       1.53644834, 1.49516691, 1.51769381, 1.46182798, 1.25406926,\n",
      "       1.09787221, 0.91174664, 0.7707451 , 0.67461296]), array([0.67352275, 0.71173647, 0.77194738, 0.91692022, 1.09896563,\n",
      "       1.26461851, 1.46443039, 1.512691  , 1.49458713, 1.53813036,\n",
      "       1.537268  , 1.49677831, 1.51629697, 1.46776839, 1.26095712,\n",
      "       1.10432885, 0.91892464, 0.77491889, 0.67471361]), array([0.67355034, 0.71312072, 0.77600651, 0.92412882, 1.10545336,\n",
      "       1.271697  , 1.47013322, 1.51105166, 1.49647217, 1.53864756,\n",
      "       1.53803858, 1.49844612, 1.5148174 , 1.47344145, 1.26794985,\n",
      "       1.11072567, 0.9261261 , 0.77925797, 0.67481643]), array([0.67357647, 0.71458741, 0.78018939, 0.93139953, 1.11185432,\n",
      "       1.2788569 , 1.47556405, 1.50933823, 1.4984563 , 1.53907871,\n",
      "       1.53875325, 1.50017797, 1.51326989, 1.47884234, 1.27504086,\n",
      "       1.11706093, 0.93334717, 0.78375561, 0.67492141]), array([0.6736011 , 0.71613641, 0.7845002 , 0.93871574, 1.11818057,\n",
      "       1.28608916, 1.48071544, 1.50757853, 1.50051893, 1.53943893,\n",
      "       1.53940464, 1.50198453, 1.51166767, 1.48396628, 1.28222044,\n",
      "       1.12333212, 0.94058845, 0.78840202, 0.67502863]), array([0.67362429, 0.71776708, 0.78894477, 0.94605949, 1.12444599,\n",
      "       1.29338404, 1.48558046, 1.50580143, 1.50263997, 1.53974524,\n",
      "       1.53998608, 1.50387632, 1.51002254, 1.4888081 , 1.28947676,\n",
      "       1.12953707, 0.94785388, 0.79318585, 0.67513823]), array([0.67364615, 0.71947873, 0.79352974, 0.95341328, 1.13066451,\n",
      "       1.30073185, 1.49015287, 1.50403472, 1.50480162, 1.54001413,\n",
      "       1.54049271, 1.50586057, 1.50834547, 1.49336221, 1.29679707,\n",
      "       1.13567501, 0.95514898, 0.79809598, 0.67525045]), array([0.67366694, 0.72127132, 0.79826139, 0.96076182, 1.13684834,\n",
      "       1.30812354, 1.49442727, 1.50230296, 1.50698977, 1.54025924,\n",
      "       1.54092234, 1.50793865, 1.50664739, 1.49762293, 1.30416886,\n",
      "       1.14174733, 0.96247881, 0.80312338, 0.67536561]), array([0.67368701, 0.72314595, 0.80314449, 0.9680936 , 1.1430066 ,\n",
      "       1.31555088, 1.49839953, 1.50062589, 1.50919467, 1.54048961,\n",
      "       1.54127602, 1.51010467, 1.50494021, 1.50158508, 1.31158083,\n",
      "       1.14775813, 0.96984598, 0.80826266, 0.67548416]), array([0.67370689, 0.72510536, 0.80818124, 0.97540174, 1.14914461,\n",
      "       1.32300652, 1.50206718, 1.49901748, 1.5114109 , 1.54070872,\n",
      "       1.54155822, 1.51234534, 1.50323773, 1.5052447 , 1.31902343,\n",
      "       1.15371416, 0.97724895, 0.81351303, 0.67560665]), array([0.67372722, 0.72715401, 0.81337047, 0.98268421, 1.15526377,\n",
      "       1.33048362, 1.50542975, 1.49748601, 1.51363666, 1.5409146 ,\n",
      "       1.54177662, 1.51464119, 1.50155632, 1.50859974, 1.32648894,\n",
      "       1.1596245 , 0.98468109, 0.81887857, 0.67573379]), array([0.67374882, 0.72929806, 0.81870746, 0.98994321, 1.16136236,\n",
      "       1.33797528, 1.50848902, 1.49603501, 1.51587258, 1.54110083,\n",
      "       1.54194156, 1.51696889, 1.49991506, 1.5116505 , 1.33397108,\n",
      "       1.16549979, 0.99213055, 0.82436753, 0.67586637]), array([0.67377261, 0.73154484, 0.82418409, 0.9971838 , 1.16743679,\n",
      "       1.34547401, 1.51124897, 1.49466493, 1.51812019, 1.54125833,\n",
      "       1.54206513, 1.51930397, 1.49833537, 1.5143998 , 1.34146426,\n",
      "       1.17135142, 0.999581  , 0.82999088, 0.67600528]), array([0.67379959, 0.73390224, 0.82978978, 1.00441211, 1.17348328,\n",
      "       1.35297104, 1.51371558, 1.4933753 , 1.52038039, 1.54137769,\n",
      "       1.5421601 , 1.52162374, 1.49683991, 1.51685282, 1.3489626 ,\n",
      "       1.17719063, 1.00701317, 0.83576027, 0.67615146]), array([0.67383078, 0.73637776, 0.83551262, 1.01163325, 1.17949957,\n",
      "       1.36045587, 1.51589629, 1.49216686, 1.52265207, 1.54145145,\n",
      "       1.54223872, 1.52390962, 1.49545106, 1.51901661, 1.3564589 ,\n",
      "       1.18302775, 1.01440696, 0.84168562, 0.67630583]), array([0.67386713, 0.73897766, 0.84134094, 1.01884941, 1.18548643,\n",
      "       1.36791609, 1.51779941, 1.49104338, 1.52493113, 1.54147615,\n",
      "       1.54231155, 1.52614874, 1.49418907, 1.52089945, 1.36394387,\n",
      "       1.18887173, 1.02174365, 0.84777288, 0.67646923]), array([0.67390949, 0.74170618, 0.84726475, 1.02605851, 1.19144859,\n",
      "       1.37533735, 1.51943333, 1.49001282, 1.52720997, 1.54145374,\n",
      "       1.54238648, 1.52833443, 1.49307023, 1.52251012, 1.37140564,\n",
      "       1.19473005, 1.02900806, 0.8540223 , 0.67664235]), array([0.67395848, 0.74456502, 0.85327701, 1.03325357, 1.19739506,\n",
      "       1.38270371, 1.52080593, 1.48908756, 1.52947759, 1.54139195,\n",
      "       1.54246817, 1.53046567, 1.49210546, 1.52385729, 1.37882974,\n",
      "       1.20060881, 1.03619011, 0.86042744, 0.67682569]), array([0.6740145 , 0.74755326, 0.85937439, 1.04042293, 1.20333859,\n",
      "       1.38999819, 1.52192416, 1.48828371, 1.53172028, 1.54130384,\n",
      "       1.5425579 , 1.5325456 , 1.49129962, 1.52494916, 1.38619945,\n",
      "       1.20651315, 1.04328564, 0.86697534, 0.6770195 ]), array([0.67407764, 0.75066768, 0.86555737, 1.04755142, 1.2092946 ,\n",
      "       1.39720341, 1.52279385, 1.4876196 , 1.53392263, 1.54120632,\n",
      "       1.5426539 , 1.53457952, 1.4906517 , 1.52579329, 1.39349663,\n",
      "       1.2124477 , 1.05029637, 0.87364766, 0.67722374]), array([0.67414772, 0.75390352, 0.87182971, 1.0546221 , 1.21527948,\n",
      "       1.40430227, 1.52342   , 1.48711369, 1.53606878, 1.54111808,\n",
      "       1.54275216, 1.5365726 , 1.4901559 , 1.52639679, 1.40070258,\n",
      "       1.21841698, 1.05722885, 0.8804228 , 0.67743811]), array([0.67422432, 0.75725551, 0.87819726, 1.06161854, 1.22130881,\n",
      "       1.4112786 , 1.5238073 , 1.48678232, 1.53814367, 1.54105716,\n",
      "       1.5428475 , 1.5385279 , 1.48980358, 1.52676676, 1.40779902,\n",
      "       1.2244257 , 1.06409285, 0.88727859, 0.67766208]), array([0.67430679, 0.76071914, 0.8846663 , 1.06852706, 1.22739557,\n",
      "       1.41811758, 1.52396094, 1.48663762, 1.54013417, 1.54103868,\n",
      "       1.54293502, 1.54044487, 1.48958546, 1.52691074, 1.41476891,\n",
      "       1.2304788 , 1.07089922, 0.89419518, 0.67789491]), array([0.67439437, 0.76429178, 0.89124168, 1.0753386 , 1.23354881,\n",
      "       1.42480593, 1.52388752, 1.48668604, 1.54203005, 1.54107296,\n",
      "       1.54301141, 1.54231863, 1.48949411, 1.52683722, 1.42159697,\n",
      "       1.23658135, 1.07765768, 0.90115757, 0.67813575]), array([0.67448623, 0.76797364, 0.8979251 , 1.08205002, 1.23977287,\n",
      "       1.43133191, 1.52359592, 1.48692767, 1.54382443, 1.54116454,\n",
      "       1.54307617, 1.54414023, 1.48952582, 1.52655607, 1.42826985,\n",
      "       1.2427382 , 1.08437491, 0.90815749, 0.67838369]), array([0.6745816 , 0.7717682 , 0.90471376, 1.0886644 , 1.24606739,\n",
      "       1.4376851 , 1.52309787, 1.48735658, 1.54551404, 1.54131217,\n",
      "       1.54313243, 1.54589754, 1.48968191, 1.52607865, 1.43477593,\n",
      "       1.2489536 , 1.09105325, 0.91519409, 0.67863784]), array([0.67467983, 0.77568213, 0.91159976, 1.09519043, 1.25242791,\n",
      "       1.44385605, 1.52240823, 1.487962  , 1.5470989 , 1.54150965,\n",
      "       1.54318718, 1.54757684, 1.48996893, 1.5254178 , 1.441105  ,\n",
      "       1.25523077, 1.09769022, 0.92227349, 0.67889742]), array([0.67478041, 0.77972461, 0.91857019, 1.10164092, 1.25884716,\n",
      "       1.44983587, 1.52154471, 1.4887302 , 1.54858172, 1.54174752,\n",
      "       1.54325085, 1.5491645 , 1.49039777, 1.52458756, 1.44724758,\n",
      "       1.26157162, 1.10427887, 0.92940702, 0.67916178]), array([0.6748831 , 0.78390611, 0.92560814, 1.10803066, 1.26531656,\n",
      "       1.45561588, 1.52052722, 1.4896466 , 1.54996697, 1.542015  ,\n",
      "       1.5433363 , 1.55064855, 1.49098186, 1.52360279, 1.45319451,\n",
      "       1.26797663, 1.11080899, 0.93660855, 0.67943044]), array([0.67498784, 0.78823683, 0.93269439, 1.11437401, 1.27182785,\n",
      "       1.46118741, 1.51937679, 1.49069787, 1.55125973, 1.54230216,\n",
      "       1.54345717, 1.55201995, 1.49173464, 1.52247877, 1.45893643,\n",
      "       1.27444485, 1.11726887, 0.94389128, 0.67970309]), array([0.67509482, 0.79272496, 0.9398095 , 1.1206826 , 1.27837444,\n",
      "       1.46654172, 1.51811432, 1.49187354, 1.55246447, 1.54260171,\n",
      "       1.54362606, 1.55327322, 1.49266688, 1.52123085, 1.46446375,\n",
      "       1.28097417, 1.12364734, 0.95126446, 0.67997961]), array([0.67520439, 0.79737522, 0.94693602, 1.12696361, 1.28495235,\n",
      "       1.47167016, 1.51675932, 1.49316696, 1.55358399, 1.54291024,\n",
      "       1.5438526 , 1.55440664, 1.49378417, 1.51987428, 1.46976671,\n",
      "       1.28756164, 1.12993577, 0.95873065, 0.68025999])]\n"
     ]
    }
   ],
   "source": [
    "print(systemsize30[0])"
   ]
  },
  {
   "cell_type": "markdown",
   "metadata": {},
   "source": [
    "Plot correlazione"
   ]
  },
  {
   "cell_type": "code",
   "execution_count": 200,
   "metadata": {},
   "outputs": [
    {
     "data": {
      "text/plain": [
       "<matplotlib.colorbar.Colorbar at 0x1449f64e0>"
      ]
     },
     "execution_count": 200,
     "metadata": {},
     "output_type": "execute_result"
    },
    {
     "data": {
      "image/png": "[encoded data removed]",
      "text/plain": [
       "<Figure size 640x480 with 2 Axes>"
      ]
     },
     "metadata": {},
     "output_type": "display_data"
    }
   ],
   "source": [
    "plt.pcolormesh(np.imag(systemsize30[0]), cmap = 'viridis')\n",
    "plt.colorbar()"
   ]
  },
  {
   "cell_type": "markdown",
   "metadata": {},
   "source": [
    "Plot "
   ]
  },
  {
   "cell_type": "code",
   "execution_count": null,
   "metadata": {},
   "outputs": [],
   "source": []
  },
  {
   "cell_type": "code",
   "execution_count": null,
   "metadata": {},
   "outputs": [],
   "source": [
    "Swk1, momenta1, freqs1 = get_spectral_function(np.array(test_corr), 20, 0.1)"
   ]
  },
  {
   "cell_type": "markdown",
   "metadata": {},
   "source": [
    "PUNTO PRINCIPALE del colloquium: capire la fisica di quello che si sta vedendo!"
   ]
  }
 ],
 "metadata": {
  "kernelspec": {
   "display_name": "Python 3",
   "language": "python",
   "name": "python3"
  },
  "language_info": {
   "codemirror_mode": {
    "name": "ipython",
    "version": 3
   },
   "file_extension": ".py",
   "mimetype": "text/x-python",
   "name": "python",
   "nbconvert_exporter": "python",
   "pygments_lexer": "ipython3",
   "version": "3.12.3"
  }
 },
 "nbformat": 4,
 "nbformat_minor": 2
}
