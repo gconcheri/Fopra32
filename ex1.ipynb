{
 "cells": [
  {
   "cell_type": "code",
   "execution_count": 7,
   "metadata": {},
   "outputs": [],
   "source": [
    "import a_mps, b_model_Gio, c_tebd\n",
    "import numpy as np\n",
    "from scipy.linalg import svd\n",
    "import importlib "
   ]
  },
  {
   "cell_type": "code",
   "execution_count": 8,
   "metadata": {},
   "outputs": [
    {
     "data": {
      "text/plain": [
       "<module 'c_tebd' from '/Users/Giovanni/Desktop/Fopra32/fopra32_summerterm2024/c_tebd.py'>"
      ]
     },
     "execution_count": 8,
     "metadata": {},
     "output_type": "execute_result"
    }
   ],
   "source": [
    "importlib.reload(a_mps)\n",
    "importlib.reload(b_model_Gio)\n",
    "importlib.reload(c_tebd)"
   ]
  },
  {
   "cell_type": "markdown",
   "metadata": {},
   "source": [
    "Exercise 4.1 part a"
   ]
  },
  {
   "cell_type": "code",
   "execution_count": 9,
   "metadata": {},
   "outputs": [
    {
     "name": "stdout",
     "output_type": "stream",
     "text": [
      "Expectation Value of z is:  [1. 1. 1. 1. 1. 1. 1. 1. 1. 1. 1. 1. 1. 1.]\n",
      "Expectation Value of x is:  [0. 0. 0. 0. 0. 0. 0. 0. 0. 0. 0. 0. 0. 0.]\n"
     ]
    }
   ],
   "source": [
    "Groundstateup = a_mps.init_spinup_MPS(14)\n",
    "sigmaz = np.array([[1,0],[0,-1]])\n",
    "sigmax = np.array([[0,1],[1,0]])\n",
    "EValz_up = Groundstateup.site_expectation_value(sigmaz)\n",
    "print(\"Expectation Value of z is: \", EValz_up)\n",
    "EValx_up = Groundstateup.site_expectation_value(sigmax)\n",
    "print(\"Expectation Value of x is: \", EValx_up)"
   ]
  },
  {
   "cell_type": "markdown",
   "metadata": {},
   "source": [
    "Part b"
   ]
  },
  {
   "cell_type": "code",
   "execution_count": 10,
   "metadata": {},
   "outputs": [
    {
     "name": "stdout",
     "output_type": "stream",
     "text": [
      "Expectation Value of z is:  [0. 0. 0. 0. 0. 0. 0. 0. 0. 0. 0. 0. 0. 0.]\n",
      "Expectation Value of x is:  [1. 1. 1. 1. 1. 1. 1. 1. 1. 1. 1. 1. 1. 1.]\n"
     ]
    }
   ],
   "source": [
    "Groundstateright = a_mps.init_spinright_MPS(14)\n",
    "Evalz_right = Groundstateright.site_expectation_value(sigmaz)\n",
    "print(\"Expectation Value of z is: \", Evalz_right)\n",
    "Evalx_right = Groundstateright.site_expectation_value(sigmax)\n",
    "print(\"Expectation Value of x is: \", Evalx_right)\n"
   ]
  },
  {
   "cell_type": "markdown",
   "metadata": {},
   "source": [
    "Part c"
   ]
  },
  {
   "cell_type": "code",
   "execution_count": 14,
   "metadata": {},
   "outputs": [
    {
     "name": "stdout",
     "output_type": "stream",
     "text": [
      "Energyup1 =  -7.0\n",
      "Energyup2 =  -14.0\n",
      "Energyup3 =  -21.0\n",
      "Energyright1 =  -12.999999999999996\n",
      "Energyright2 =  -12.999999999999996\n",
      "Energyright3 =  -12.999999999999996\n"
     ]
    }
   ],
   "source": [
    "Hamiltonian1 = b_model_Gio.TFIModel(14,1,0.5)\n",
    "Hamiltonian2 = b_model_Gio.TFIModel(14,1,1)\n",
    "Hamiltonian3 = b_model_Gio.TFIModel(14,1,1.5)\n",
    "\n",
    "Energyup1 = Hamiltonian1.energy(Groundstateup)\n",
    "Energyup2 = Hamiltonian2.energy(Groundstateup)\n",
    "Energyup3 = Hamiltonian3.energy(Groundstateup)\n",
    "\n",
    "Energyright1 = Hamiltonian1.energy(Groundstateright)\n",
    "Energyright2 = Hamiltonian2.energy(Groundstateright)\n",
    "Energyright3 = Hamiltonian3.energy(Groundstateright)\n",
    "\n",
    "print(\"Energyup1 = \", Energyup1)\n",
    "print(\"Energyup2 = \", Energyup2)\n",
    "print(\"Energyup3 = \", Energyup3)\n",
    "print(\"Energyright1 = \", Energyright1)\n",
    "print(\"Energyright2 = \", Energyright2)\n",
    "print(\"Energyright3 = \", Energyright3)\n"
   ]
  },
  {
   "cell_type": "code",
   "execution_count": null,
   "metadata": {},
   "outputs": [],
   "source": []
  }
 ],
 "metadata": {
  "kernelspec": {
   "display_name": "Python 3",
   "language": "python",
   "name": "python3"
  },
  "language_info": {
   "codemirror_mode": {
    "name": "ipython",
    "version": 3
   },
   "file_extension": ".py",
   "mimetype": "text/x-python",
   "name": "python",
   "nbconvert_exporter": "python",
   "pygments_lexer": "ipython3",
   "version": "3.12.3"
  }
 },
 "nbformat": 4,
 "nbformat_minor": 2
}
